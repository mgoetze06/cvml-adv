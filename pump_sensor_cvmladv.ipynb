{
  "nbformat": 4,
  "nbformat_minor": 0,
  "metadata": {
    "colab": {
      "name": "pump_sensor_cvmladv.ipynb",
      "provenance": [],
      "toc_visible": true,
      "mount_file_id": "https://github.com/mgoetze06/cvml-adv/blob/main/pump_sensor_cvmladv.ipynb",
      "authorship_tag": "ABX9TyMhrFwWSR4PKy/VT5fp0n+q"
    },
    "kernelspec": {
      "name": "python3",
      "display_name": "Python 3"
    },
    "language_info": {
      "name": "python"
    }
  },
  "cells": [
    {
      "cell_type": "markdown",
      "source": [
        "**Pump Sensor Data**"
      ],
      "metadata": {
        "id": "hRO20SzOZfi_"
      }
    },
    {
      "cell_type": "markdown",
      "source": [
        "https://www.kaggle.com/datasets/nphantawee/pump-sensor-data?select=sensor.csv\n"
      ],
      "metadata": {
        "id": "dKAEXQXxXasX"
      }
    },
    {
      "cell_type": "markdown",
      "source": [
        "# Import Data"
      ],
      "metadata": {
        "id": "1ICh16Igqrrz"
      }
    },
    {
      "cell_type": "code",
      "source": [
        "import pandas as pd \n",
        "import numpy as np\n",
        "import matplotlib.pyplot as plt"
      ],
      "metadata": {
        "id": "Vsk2H5lPXcQl"
      },
      "execution_count": 1,
      "outputs": []
    },
    {
      "cell_type": "code",
      "source": [
        "#colab_location\n",
        "file = \"/content/drive/MyDrive/cvml/pump_sensor_data/sensor.csv\"\n",
        "\n",
        "#local location\n",
        "#file = \"\"\n",
        "\n",
        "df = pd.read_csv(file)"
      ],
      "metadata": {
        "id": "_g7dkRzjaUfu"
      },
      "execution_count": 2,
      "outputs": []
    },
    {
      "cell_type": "markdown",
      "source": [
        "#Data overview"
      ],
      "metadata": {
        "id": "ZsyxThZk-mWC"
      }
    },
    {
      "cell_type": "code",
      "source": [
        "df.head()"
      ],
      "metadata": {
        "colab": {
          "base_uri": "https://localhost:8080/",
          "height": 404
        },
        "id": "Bjz41mPHbuQe",
        "outputId": "7b5ea785-3094-469e-f865-acd8888100ec"
      },
      "execution_count": null,
      "outputs": [
        {
          "output_type": "execute_result",
          "data": {
            "text/plain": [
              "   Unnamed: 0            timestamp  sensor_00  sensor_01  sensor_02  \\\n",
              "0           0  2018-04-01 00:00:00   2.465394   47.09201    53.2118   \n",
              "1           1  2018-04-01 00:01:00   2.465394   47.09201    53.2118   \n",
              "2           2  2018-04-01 00:02:00   2.444734   47.35243    53.2118   \n",
              "3           3  2018-04-01 00:03:00   2.460474   47.09201    53.1684   \n",
              "4           4  2018-04-01 00:04:00   2.445718   47.13541    53.2118   \n",
              "\n",
              "   sensor_03  sensor_04  sensor_05  sensor_06  sensor_07  ...  sensor_43  \\\n",
              "0  46.310760   634.3750   76.45975   13.41146   16.13136  ...   41.92708   \n",
              "1  46.310760   634.3750   76.45975   13.41146   16.13136  ...   41.92708   \n",
              "2  46.397570   638.8889   73.54598   13.32465   16.03733  ...   41.66666   \n",
              "3  46.397568   628.1250   76.98898   13.31742   16.24711  ...   40.88541   \n",
              "4  46.397568   636.4583   76.58897   13.35359   16.21094  ...   41.40625   \n",
              "\n",
              "   sensor_44  sensor_45  sensor_46  sensor_47  sensor_48  sensor_49  \\\n",
              "0  39.641200   65.68287   50.92593  38.194440   157.9861   67.70834   \n",
              "1  39.641200   65.68287   50.92593  38.194440   157.9861   67.70834   \n",
              "2  39.351852   65.39352   51.21528  38.194443   155.9606   67.12963   \n",
              "3  39.062500   64.81481   51.21528  38.194440   155.9606   66.84028   \n",
              "4  38.773150   65.10416   51.79398  38.773150   158.2755   66.55093   \n",
              "\n",
              "   sensor_50  sensor_51  machine_status  \n",
              "0   243.0556   201.3889          NORMAL  \n",
              "1   243.0556   201.3889          NORMAL  \n",
              "2   241.3194   203.7037          NORMAL  \n",
              "3   240.4514   203.1250          NORMAL  \n",
              "4   242.1875   201.3889          NORMAL  \n",
              "\n",
              "[5 rows x 55 columns]"
            ],
            "text/html": [
              "\n",
              "  <div id=\"df-99b86605-a13d-4105-bfa8-e00ac64721c5\">\n",
              "    <div class=\"colab-df-container\">\n",
              "      <div>\n",
              "<style scoped>\n",
              "    .dataframe tbody tr th:only-of-type {\n",
              "        vertical-align: middle;\n",
              "    }\n",
              "\n",
              "    .dataframe tbody tr th {\n",
              "        vertical-align: top;\n",
              "    }\n",
              "\n",
              "    .dataframe thead th {\n",
              "        text-align: right;\n",
              "    }\n",
              "</style>\n",
              "<table border=\"1\" class=\"dataframe\">\n",
              "  <thead>\n",
              "    <tr style=\"text-align: right;\">\n",
              "      <th></th>\n",
              "      <th>Unnamed: 0</th>\n",
              "      <th>timestamp</th>\n",
              "      <th>sensor_00</th>\n",
              "      <th>sensor_01</th>\n",
              "      <th>sensor_02</th>\n",
              "      <th>sensor_03</th>\n",
              "      <th>sensor_04</th>\n",
              "      <th>sensor_05</th>\n",
              "      <th>sensor_06</th>\n",
              "      <th>sensor_07</th>\n",
              "      <th>...</th>\n",
              "      <th>sensor_43</th>\n",
              "      <th>sensor_44</th>\n",
              "      <th>sensor_45</th>\n",
              "      <th>sensor_46</th>\n",
              "      <th>sensor_47</th>\n",
              "      <th>sensor_48</th>\n",
              "      <th>sensor_49</th>\n",
              "      <th>sensor_50</th>\n",
              "      <th>sensor_51</th>\n",
              "      <th>machine_status</th>\n",
              "    </tr>\n",
              "  </thead>\n",
              "  <tbody>\n",
              "    <tr>\n",
              "      <th>0</th>\n",
              "      <td>0</td>\n",
              "      <td>2018-04-01 00:00:00</td>\n",
              "      <td>2.465394</td>\n",
              "      <td>47.09201</td>\n",
              "      <td>53.2118</td>\n",
              "      <td>46.310760</td>\n",
              "      <td>634.3750</td>\n",
              "      <td>76.45975</td>\n",
              "      <td>13.41146</td>\n",
              "      <td>16.13136</td>\n",
              "      <td>...</td>\n",
              "      <td>41.92708</td>\n",
              "      <td>39.641200</td>\n",
              "      <td>65.68287</td>\n",
              "      <td>50.92593</td>\n",
              "      <td>38.194440</td>\n",
              "      <td>157.9861</td>\n",
              "      <td>67.70834</td>\n",
              "      <td>243.0556</td>\n",
              "      <td>201.3889</td>\n",
              "      <td>NORMAL</td>\n",
              "    </tr>\n",
              "    <tr>\n",
              "      <th>1</th>\n",
              "      <td>1</td>\n",
              "      <td>2018-04-01 00:01:00</td>\n",
              "      <td>2.465394</td>\n",
              "      <td>47.09201</td>\n",
              "      <td>53.2118</td>\n",
              "      <td>46.310760</td>\n",
              "      <td>634.3750</td>\n",
              "      <td>76.45975</td>\n",
              "      <td>13.41146</td>\n",
              "      <td>16.13136</td>\n",
              "      <td>...</td>\n",
              "      <td>41.92708</td>\n",
              "      <td>39.641200</td>\n",
              "      <td>65.68287</td>\n",
              "      <td>50.92593</td>\n",
              "      <td>38.194440</td>\n",
              "      <td>157.9861</td>\n",
              "      <td>67.70834</td>\n",
              "      <td>243.0556</td>\n",
              "      <td>201.3889</td>\n",
              "      <td>NORMAL</td>\n",
              "    </tr>\n",
              "    <tr>\n",
              "      <th>2</th>\n",
              "      <td>2</td>\n",
              "      <td>2018-04-01 00:02:00</td>\n",
              "      <td>2.444734</td>\n",
              "      <td>47.35243</td>\n",
              "      <td>53.2118</td>\n",
              "      <td>46.397570</td>\n",
              "      <td>638.8889</td>\n",
              "      <td>73.54598</td>\n",
              "      <td>13.32465</td>\n",
              "      <td>16.03733</td>\n",
              "      <td>...</td>\n",
              "      <td>41.66666</td>\n",
              "      <td>39.351852</td>\n",
              "      <td>65.39352</td>\n",
              "      <td>51.21528</td>\n",
              "      <td>38.194443</td>\n",
              "      <td>155.9606</td>\n",
              "      <td>67.12963</td>\n",
              "      <td>241.3194</td>\n",
              "      <td>203.7037</td>\n",
              "      <td>NORMAL</td>\n",
              "    </tr>\n",
              "    <tr>\n",
              "      <th>3</th>\n",
              "      <td>3</td>\n",
              "      <td>2018-04-01 00:03:00</td>\n",
              "      <td>2.460474</td>\n",
              "      <td>47.09201</td>\n",
              "      <td>53.1684</td>\n",
              "      <td>46.397568</td>\n",
              "      <td>628.1250</td>\n",
              "      <td>76.98898</td>\n",
              "      <td>13.31742</td>\n",
              "      <td>16.24711</td>\n",
              "      <td>...</td>\n",
              "      <td>40.88541</td>\n",
              "      <td>39.062500</td>\n",
              "      <td>64.81481</td>\n",
              "      <td>51.21528</td>\n",
              "      <td>38.194440</td>\n",
              "      <td>155.9606</td>\n",
              "      <td>66.84028</td>\n",
              "      <td>240.4514</td>\n",
              "      <td>203.1250</td>\n",
              "      <td>NORMAL</td>\n",
              "    </tr>\n",
              "    <tr>\n",
              "      <th>4</th>\n",
              "      <td>4</td>\n",
              "      <td>2018-04-01 00:04:00</td>\n",
              "      <td>2.445718</td>\n",
              "      <td>47.13541</td>\n",
              "      <td>53.2118</td>\n",
              "      <td>46.397568</td>\n",
              "      <td>636.4583</td>\n",
              "      <td>76.58897</td>\n",
              "      <td>13.35359</td>\n",
              "      <td>16.21094</td>\n",
              "      <td>...</td>\n",
              "      <td>41.40625</td>\n",
              "      <td>38.773150</td>\n",
              "      <td>65.10416</td>\n",
              "      <td>51.79398</td>\n",
              "      <td>38.773150</td>\n",
              "      <td>158.2755</td>\n",
              "      <td>66.55093</td>\n",
              "      <td>242.1875</td>\n",
              "      <td>201.3889</td>\n",
              "      <td>NORMAL</td>\n",
              "    </tr>\n",
              "  </tbody>\n",
              "</table>\n",
              "<p>5 rows × 55 columns</p>\n",
              "</div>\n",
              "      <button class=\"colab-df-convert\" onclick=\"convertToInteractive('df-99b86605-a13d-4105-bfa8-e00ac64721c5')\"\n",
              "              title=\"Convert this dataframe to an interactive table.\"\n",
              "              style=\"display:none;\">\n",
              "        \n",
              "  <svg xmlns=\"http://www.w3.org/2000/svg\" height=\"24px\"viewBox=\"0 0 24 24\"\n",
              "       width=\"24px\">\n",
              "    <path d=\"M0 0h24v24H0V0z\" fill=\"none\"/>\n",
              "    <path d=\"M18.56 5.44l.94 2.06.94-2.06 2.06-.94-2.06-.94-.94-2.06-.94 2.06-2.06.94zm-11 1L8.5 8.5l.94-2.06 2.06-.94-2.06-.94L8.5 2.5l-.94 2.06-2.06.94zm10 10l.94 2.06.94-2.06 2.06-.94-2.06-.94-.94-2.06-.94 2.06-2.06.94z\"/><path d=\"M17.41 7.96l-1.37-1.37c-.4-.4-.92-.59-1.43-.59-.52 0-1.04.2-1.43.59L10.3 9.45l-7.72 7.72c-.78.78-.78 2.05 0 2.83L4 21.41c.39.39.9.59 1.41.59.51 0 1.02-.2 1.41-.59l7.78-7.78 2.81-2.81c.8-.78.8-2.07 0-2.86zM5.41 20L4 18.59l7.72-7.72 1.47 1.35L5.41 20z\"/>\n",
              "  </svg>\n",
              "      </button>\n",
              "      \n",
              "  <style>\n",
              "    .colab-df-container {\n",
              "      display:flex;\n",
              "      flex-wrap:wrap;\n",
              "      gap: 12px;\n",
              "    }\n",
              "\n",
              "    .colab-df-convert {\n",
              "      background-color: #E8F0FE;\n",
              "      border: none;\n",
              "      border-radius: 50%;\n",
              "      cursor: pointer;\n",
              "      display: none;\n",
              "      fill: #1967D2;\n",
              "      height: 32px;\n",
              "      padding: 0 0 0 0;\n",
              "      width: 32px;\n",
              "    }\n",
              "\n",
              "    .colab-df-convert:hover {\n",
              "      background-color: #E2EBFA;\n",
              "      box-shadow: 0px 1px 2px rgba(60, 64, 67, 0.3), 0px 1px 3px 1px rgba(60, 64, 67, 0.15);\n",
              "      fill: #174EA6;\n",
              "    }\n",
              "\n",
              "    [theme=dark] .colab-df-convert {\n",
              "      background-color: #3B4455;\n",
              "      fill: #D2E3FC;\n",
              "    }\n",
              "\n",
              "    [theme=dark] .colab-df-convert:hover {\n",
              "      background-color: #434B5C;\n",
              "      box-shadow: 0px 1px 3px 1px rgba(0, 0, 0, 0.15);\n",
              "      filter: drop-shadow(0px 1px 2px rgba(0, 0, 0, 0.3));\n",
              "      fill: #FFFFFF;\n",
              "    }\n",
              "  </style>\n",
              "\n",
              "      <script>\n",
              "        const buttonEl =\n",
              "          document.querySelector('#df-99b86605-a13d-4105-bfa8-e00ac64721c5 button.colab-df-convert');\n",
              "        buttonEl.style.display =\n",
              "          google.colab.kernel.accessAllowed ? 'block' : 'none';\n",
              "\n",
              "        async function convertToInteractive(key) {\n",
              "          const element = document.querySelector('#df-99b86605-a13d-4105-bfa8-e00ac64721c5');\n",
              "          const dataTable =\n",
              "            await google.colab.kernel.invokeFunction('convertToInteractive',\n",
              "                                                     [key], {});\n",
              "          if (!dataTable) return;\n",
              "\n",
              "          const docLinkHtml = 'Like what you see? Visit the ' +\n",
              "            '<a target=\"_blank\" href=https://colab.research.google.com/notebooks/data_table.ipynb>data table notebook</a>'\n",
              "            + ' to learn more about interactive tables.';\n",
              "          element.innerHTML = '';\n",
              "          dataTable['output_type'] = 'display_data';\n",
              "          await google.colab.output.renderOutput(dataTable, element);\n",
              "          const docLink = document.createElement('div');\n",
              "          docLink.innerHTML = docLinkHtml;\n",
              "          element.appendChild(docLink);\n",
              "        }\n",
              "      </script>\n",
              "    </div>\n",
              "  </div>\n",
              "  "
            ]
          },
          "metadata": {},
          "execution_count": 3
        }
      ]
    },
    {
      "cell_type": "code",
      "source": [
        "df.tail()"
      ],
      "metadata": {
        "colab": {
          "base_uri": "https://localhost:8080/",
          "height": 404
        },
        "id": "gZSgW_TAZ0Hq",
        "outputId": "5e480dd5-d5cd-4e8b-ab46-3b594686aa34"
      },
      "execution_count": null,
      "outputs": [
        {
          "output_type": "execute_result",
          "data": {
            "text/plain": [
              "        Unnamed: 0            timestamp  sensor_00  sensor_01  sensor_02  \\\n",
              "220315      220315  2018-08-31 23:55:00   2.407350   47.69965  50.520830   \n",
              "220316      220316  2018-08-31 23:56:00   2.400463   47.69965  50.564240   \n",
              "220317      220317  2018-08-31 23:57:00   2.396528   47.69965  50.520830   \n",
              "220318      220318  2018-08-31 23:58:00   2.406366   47.69965  50.520832   \n",
              "220319      220319  2018-08-31 23:59:00   2.396528   47.69965  50.520832   \n",
              "\n",
              "        sensor_03   sensor_04  sensor_05  sensor_06  sensor_07  ...  \\\n",
              "220315  43.142361  634.722229   64.59095   15.11863   16.65220  ...   \n",
              "220316  43.142361  630.902771   65.83363   15.15480   16.70284  ...   \n",
              "220317  43.142361  625.925903   67.29445   15.08970   16.70284  ...   \n",
              "220318  43.142361  635.648100   65.09175   15.11863   16.56539  ...   \n",
              "220319  43.142361  639.814800   65.45634   15.11863   16.65220  ...   \n",
              "\n",
              "        sensor_43  sensor_44  sensor_45  sensor_46  sensor_47  sensor_48  \\\n",
              "220315   38.28125   68.28703   52.37268   48.32176  41.087960   212.3843   \n",
              "220316   38.28125   66.84028   50.63657   48.03241  40.798610   213.8310   \n",
              "220317   39.06250   65.39352   48.90046   48.03241  40.798610   217.3032   \n",
              "220318   40.62500   64.23611   47.74306   48.32176  40.509258   222.5116   \n",
              "220319   41.40625   62.78935   46.29630   48.90046  40.219910   227.4306   \n",
              "\n",
              "        sensor_49  sensor_50  sensor_51  machine_status  \n",
              "220315   153.6458        NaN   231.1921          NORMAL  \n",
              "220316   156.2500        NaN   231.1921          NORMAL  \n",
              "220317   155.3819        NaN   232.0602          NORMAL  \n",
              "220318   153.9352        NaN   234.0856          NORMAL  \n",
              "220319   150.4630        NaN   234.0856          NORMAL  \n",
              "\n",
              "[5 rows x 55 columns]"
            ],
            "text/html": [
              "\n",
              "  <div id=\"df-65bbfb49-bdb7-441c-bc28-e3fbf5476ac7\">\n",
              "    <div class=\"colab-df-container\">\n",
              "      <div>\n",
              "<style scoped>\n",
              "    .dataframe tbody tr th:only-of-type {\n",
              "        vertical-align: middle;\n",
              "    }\n",
              "\n",
              "    .dataframe tbody tr th {\n",
              "        vertical-align: top;\n",
              "    }\n",
              "\n",
              "    .dataframe thead th {\n",
              "        text-align: right;\n",
              "    }\n",
              "</style>\n",
              "<table border=\"1\" class=\"dataframe\">\n",
              "  <thead>\n",
              "    <tr style=\"text-align: right;\">\n",
              "      <th></th>\n",
              "      <th>Unnamed: 0</th>\n",
              "      <th>timestamp</th>\n",
              "      <th>sensor_00</th>\n",
              "      <th>sensor_01</th>\n",
              "      <th>sensor_02</th>\n",
              "      <th>sensor_03</th>\n",
              "      <th>sensor_04</th>\n",
              "      <th>sensor_05</th>\n",
              "      <th>sensor_06</th>\n",
              "      <th>sensor_07</th>\n",
              "      <th>...</th>\n",
              "      <th>sensor_43</th>\n",
              "      <th>sensor_44</th>\n",
              "      <th>sensor_45</th>\n",
              "      <th>sensor_46</th>\n",
              "      <th>sensor_47</th>\n",
              "      <th>sensor_48</th>\n",
              "      <th>sensor_49</th>\n",
              "      <th>sensor_50</th>\n",
              "      <th>sensor_51</th>\n",
              "      <th>machine_status</th>\n",
              "    </tr>\n",
              "  </thead>\n",
              "  <tbody>\n",
              "    <tr>\n",
              "      <th>220315</th>\n",
              "      <td>220315</td>\n",
              "      <td>2018-08-31 23:55:00</td>\n",
              "      <td>2.407350</td>\n",
              "      <td>47.69965</td>\n",
              "      <td>50.520830</td>\n",
              "      <td>43.142361</td>\n",
              "      <td>634.722229</td>\n",
              "      <td>64.59095</td>\n",
              "      <td>15.11863</td>\n",
              "      <td>16.65220</td>\n",
              "      <td>...</td>\n",
              "      <td>38.28125</td>\n",
              "      <td>68.28703</td>\n",
              "      <td>52.37268</td>\n",
              "      <td>48.32176</td>\n",
              "      <td>41.087960</td>\n",
              "      <td>212.3843</td>\n",
              "      <td>153.6458</td>\n",
              "      <td>NaN</td>\n",
              "      <td>231.1921</td>\n",
              "      <td>NORMAL</td>\n",
              "    </tr>\n",
              "    <tr>\n",
              "      <th>220316</th>\n",
              "      <td>220316</td>\n",
              "      <td>2018-08-31 23:56:00</td>\n",
              "      <td>2.400463</td>\n",
              "      <td>47.69965</td>\n",
              "      <td>50.564240</td>\n",
              "      <td>43.142361</td>\n",
              "      <td>630.902771</td>\n",
              "      <td>65.83363</td>\n",
              "      <td>15.15480</td>\n",
              "      <td>16.70284</td>\n",
              "      <td>...</td>\n",
              "      <td>38.28125</td>\n",
              "      <td>66.84028</td>\n",
              "      <td>50.63657</td>\n",
              "      <td>48.03241</td>\n",
              "      <td>40.798610</td>\n",
              "      <td>213.8310</td>\n",
              "      <td>156.2500</td>\n",
              "      <td>NaN</td>\n",
              "      <td>231.1921</td>\n",
              "      <td>NORMAL</td>\n",
              "    </tr>\n",
              "    <tr>\n",
              "      <th>220317</th>\n",
              "      <td>220317</td>\n",
              "      <td>2018-08-31 23:57:00</td>\n",
              "      <td>2.396528</td>\n",
              "      <td>47.69965</td>\n",
              "      <td>50.520830</td>\n",
              "      <td>43.142361</td>\n",
              "      <td>625.925903</td>\n",
              "      <td>67.29445</td>\n",
              "      <td>15.08970</td>\n",
              "      <td>16.70284</td>\n",
              "      <td>...</td>\n",
              "      <td>39.06250</td>\n",
              "      <td>65.39352</td>\n",
              "      <td>48.90046</td>\n",
              "      <td>48.03241</td>\n",
              "      <td>40.798610</td>\n",
              "      <td>217.3032</td>\n",
              "      <td>155.3819</td>\n",
              "      <td>NaN</td>\n",
              "      <td>232.0602</td>\n",
              "      <td>NORMAL</td>\n",
              "    </tr>\n",
              "    <tr>\n",
              "      <th>220318</th>\n",
              "      <td>220318</td>\n",
              "      <td>2018-08-31 23:58:00</td>\n",
              "      <td>2.406366</td>\n",
              "      <td>47.69965</td>\n",
              "      <td>50.520832</td>\n",
              "      <td>43.142361</td>\n",
              "      <td>635.648100</td>\n",
              "      <td>65.09175</td>\n",
              "      <td>15.11863</td>\n",
              "      <td>16.56539</td>\n",
              "      <td>...</td>\n",
              "      <td>40.62500</td>\n",
              "      <td>64.23611</td>\n",
              "      <td>47.74306</td>\n",
              "      <td>48.32176</td>\n",
              "      <td>40.509258</td>\n",
              "      <td>222.5116</td>\n",
              "      <td>153.9352</td>\n",
              "      <td>NaN</td>\n",
              "      <td>234.0856</td>\n",
              "      <td>NORMAL</td>\n",
              "    </tr>\n",
              "    <tr>\n",
              "      <th>220319</th>\n",
              "      <td>220319</td>\n",
              "      <td>2018-08-31 23:59:00</td>\n",
              "      <td>2.396528</td>\n",
              "      <td>47.69965</td>\n",
              "      <td>50.520832</td>\n",
              "      <td>43.142361</td>\n",
              "      <td>639.814800</td>\n",
              "      <td>65.45634</td>\n",
              "      <td>15.11863</td>\n",
              "      <td>16.65220</td>\n",
              "      <td>...</td>\n",
              "      <td>41.40625</td>\n",
              "      <td>62.78935</td>\n",
              "      <td>46.29630</td>\n",
              "      <td>48.90046</td>\n",
              "      <td>40.219910</td>\n",
              "      <td>227.4306</td>\n",
              "      <td>150.4630</td>\n",
              "      <td>NaN</td>\n",
              "      <td>234.0856</td>\n",
              "      <td>NORMAL</td>\n",
              "    </tr>\n",
              "  </tbody>\n",
              "</table>\n",
              "<p>5 rows × 55 columns</p>\n",
              "</div>\n",
              "      <button class=\"colab-df-convert\" onclick=\"convertToInteractive('df-65bbfb49-bdb7-441c-bc28-e3fbf5476ac7')\"\n",
              "              title=\"Convert this dataframe to an interactive table.\"\n",
              "              style=\"display:none;\">\n",
              "        \n",
              "  <svg xmlns=\"http://www.w3.org/2000/svg\" height=\"24px\"viewBox=\"0 0 24 24\"\n",
              "       width=\"24px\">\n",
              "    <path d=\"M0 0h24v24H0V0z\" fill=\"none\"/>\n",
              "    <path d=\"M18.56 5.44l.94 2.06.94-2.06 2.06-.94-2.06-.94-.94-2.06-.94 2.06-2.06.94zm-11 1L8.5 8.5l.94-2.06 2.06-.94-2.06-.94L8.5 2.5l-.94 2.06-2.06.94zm10 10l.94 2.06.94-2.06 2.06-.94-2.06-.94-.94-2.06-.94 2.06-2.06.94z\"/><path d=\"M17.41 7.96l-1.37-1.37c-.4-.4-.92-.59-1.43-.59-.52 0-1.04.2-1.43.59L10.3 9.45l-7.72 7.72c-.78.78-.78 2.05 0 2.83L4 21.41c.39.39.9.59 1.41.59.51 0 1.02-.2 1.41-.59l7.78-7.78 2.81-2.81c.8-.78.8-2.07 0-2.86zM5.41 20L4 18.59l7.72-7.72 1.47 1.35L5.41 20z\"/>\n",
              "  </svg>\n",
              "      </button>\n",
              "      \n",
              "  <style>\n",
              "    .colab-df-container {\n",
              "      display:flex;\n",
              "      flex-wrap:wrap;\n",
              "      gap: 12px;\n",
              "    }\n",
              "\n",
              "    .colab-df-convert {\n",
              "      background-color: #E8F0FE;\n",
              "      border: none;\n",
              "      border-radius: 50%;\n",
              "      cursor: pointer;\n",
              "      display: none;\n",
              "      fill: #1967D2;\n",
              "      height: 32px;\n",
              "      padding: 0 0 0 0;\n",
              "      width: 32px;\n",
              "    }\n",
              "\n",
              "    .colab-df-convert:hover {\n",
              "      background-color: #E2EBFA;\n",
              "      box-shadow: 0px 1px 2px rgba(60, 64, 67, 0.3), 0px 1px 3px 1px rgba(60, 64, 67, 0.15);\n",
              "      fill: #174EA6;\n",
              "    }\n",
              "\n",
              "    [theme=dark] .colab-df-convert {\n",
              "      background-color: #3B4455;\n",
              "      fill: #D2E3FC;\n",
              "    }\n",
              "\n",
              "    [theme=dark] .colab-df-convert:hover {\n",
              "      background-color: #434B5C;\n",
              "      box-shadow: 0px 1px 3px 1px rgba(0, 0, 0, 0.15);\n",
              "      filter: drop-shadow(0px 1px 2px rgba(0, 0, 0, 0.3));\n",
              "      fill: #FFFFFF;\n",
              "    }\n",
              "  </style>\n",
              "\n",
              "      <script>\n",
              "        const buttonEl =\n",
              "          document.querySelector('#df-65bbfb49-bdb7-441c-bc28-e3fbf5476ac7 button.colab-df-convert');\n",
              "        buttonEl.style.display =\n",
              "          google.colab.kernel.accessAllowed ? 'block' : 'none';\n",
              "\n",
              "        async function convertToInteractive(key) {\n",
              "          const element = document.querySelector('#df-65bbfb49-bdb7-441c-bc28-e3fbf5476ac7');\n",
              "          const dataTable =\n",
              "            await google.colab.kernel.invokeFunction('convertToInteractive',\n",
              "                                                     [key], {});\n",
              "          if (!dataTable) return;\n",
              "\n",
              "          const docLinkHtml = 'Like what you see? Visit the ' +\n",
              "            '<a target=\"_blank\" href=https://colab.research.google.com/notebooks/data_table.ipynb>data table notebook</a>'\n",
              "            + ' to learn more about interactive tables.';\n",
              "          element.innerHTML = '';\n",
              "          dataTable['output_type'] = 'display_data';\n",
              "          await google.colab.output.renderOutput(dataTable, element);\n",
              "          const docLink = document.createElement('div');\n",
              "          docLink.innerHTML = docLinkHtml;\n",
              "          element.appendChild(docLink);\n",
              "        }\n",
              "      </script>\n",
              "    </div>\n",
              "  </div>\n",
              "  "
            ]
          },
          "metadata": {},
          "execution_count": 4
        }
      ]
    },
    {
      "cell_type": "code",
      "source": [
        "df.describe()"
      ],
      "metadata": {
        "colab": {
          "base_uri": "https://localhost:8080/",
          "height": 394
        },
        "id": "srT1WAVIaZr8",
        "outputId": "d1d94fcf-fdf1-4d32-b003-349a025d1bf7"
      },
      "execution_count": null,
      "outputs": [
        {
          "output_type": "execute_result",
          "data": {
            "text/plain": [
              "          Unnamed: 0      sensor_00      sensor_01      sensor_02  \\\n",
              "count  220320.000000  210112.000000  219951.000000  220301.000000   \n",
              "mean   110159.500000       2.372221      47.591611      50.867392   \n",
              "std     63601.049991       0.412227       3.296666       3.666820   \n",
              "min         0.000000       0.000000       0.000000      33.159720   \n",
              "25%     55079.750000       2.438831      46.310760      50.390620   \n",
              "50%    110159.500000       2.456539      48.133678      51.649300   \n",
              "75%    165239.250000       2.499826      49.479160      52.777770   \n",
              "max    220319.000000       2.549016      56.727430      56.032990   \n",
              "\n",
              "           sensor_03      sensor_04      sensor_05      sensor_06  \\\n",
              "count  220301.000000  220301.000000  220301.000000  215522.000000   \n",
              "mean       43.752481     590.673936      73.396414      13.501537   \n",
              "std         2.418887     144.023912      17.298247       2.163736   \n",
              "min        31.640620       2.798032       0.000000       0.014468   \n",
              "25%        42.838539     626.620400      69.976260      13.346350   \n",
              "50%        44.227428     632.638916      75.576790      13.642940   \n",
              "75%        45.312500     637.615723      80.912150      14.539930   \n",
              "max        48.220490     800.000000      99.999880      22.251160   \n",
              "\n",
              "           sensor_07      sensor_08  ...      sensor_42      sensor_43  \\\n",
              "count  214869.000000  215213.000000  ...  220293.000000  220293.000000   \n",
              "mean       15.843152      15.200721  ...      35.453455      43.879591   \n",
              "std         2.201155       2.037390  ...      10.259521      11.044404   \n",
              "min         0.000000       0.028935  ...      22.135416      24.479166   \n",
              "25%        15.907120      15.183740  ...      32.812500      39.583330   \n",
              "50%        16.167530      15.494790  ...      35.156250      42.968750   \n",
              "75%        16.427950      15.697340  ...      36.979164      46.614580   \n",
              "max        23.596640      24.348960  ...     374.218800     408.593700   \n",
              "\n",
              "           sensor_44      sensor_45      sensor_46      sensor_47  \\\n",
              "count  220293.000000  220293.000000  220293.000000  220293.000000   \n",
              "mean       42.656877      43.094984      48.018585      44.340903   \n",
              "std        11.576355      12.837520      15.641284      10.442437   \n",
              "min        25.752316      26.331018      26.331018      27.199070   \n",
              "25%        36.747684      36.747684      40.509258      39.062500   \n",
              "50%        40.509260      40.219910      44.849540      42.534720   \n",
              "75%        45.138890      44.849540      51.215280      46.585650   \n",
              "max      1000.000000     320.312500     370.370400     303.530100   \n",
              "\n",
              "           sensor_48      sensor_49      sensor_50      sensor_51  \n",
              "count  220293.000000  220293.000000  143303.000000  204937.000000  \n",
              "mean      150.889044      57.119968     183.049260     202.699667  \n",
              "std        82.244957      19.143598      65.258650     109.588607  \n",
              "min        26.331018      26.620370      27.488426      27.777779  \n",
              "25%        83.912030      47.743060     167.534700     179.108800  \n",
              "50%       138.020800      52.662040     193.865700     197.338000  \n",
              "75%       208.333300      60.763890     219.907400     216.724500  \n",
              "max       561.632000     464.409700    1000.000000    1000.000000  \n",
              "\n",
              "[8 rows x 53 columns]"
            ],
            "text/html": [
              "\n",
              "  <div id=\"df-e33d201e-b9ce-46f9-a338-95d335f72d27\">\n",
              "    <div class=\"colab-df-container\">\n",
              "      <div>\n",
              "<style scoped>\n",
              "    .dataframe tbody tr th:only-of-type {\n",
              "        vertical-align: middle;\n",
              "    }\n",
              "\n",
              "    .dataframe tbody tr th {\n",
              "        vertical-align: top;\n",
              "    }\n",
              "\n",
              "    .dataframe thead th {\n",
              "        text-align: right;\n",
              "    }\n",
              "</style>\n",
              "<table border=\"1\" class=\"dataframe\">\n",
              "  <thead>\n",
              "    <tr style=\"text-align: right;\">\n",
              "      <th></th>\n",
              "      <th>Unnamed: 0</th>\n",
              "      <th>sensor_00</th>\n",
              "      <th>sensor_01</th>\n",
              "      <th>sensor_02</th>\n",
              "      <th>sensor_03</th>\n",
              "      <th>sensor_04</th>\n",
              "      <th>sensor_05</th>\n",
              "      <th>sensor_06</th>\n",
              "      <th>sensor_07</th>\n",
              "      <th>sensor_08</th>\n",
              "      <th>...</th>\n",
              "      <th>sensor_42</th>\n",
              "      <th>sensor_43</th>\n",
              "      <th>sensor_44</th>\n",
              "      <th>sensor_45</th>\n",
              "      <th>sensor_46</th>\n",
              "      <th>sensor_47</th>\n",
              "      <th>sensor_48</th>\n",
              "      <th>sensor_49</th>\n",
              "      <th>sensor_50</th>\n",
              "      <th>sensor_51</th>\n",
              "    </tr>\n",
              "  </thead>\n",
              "  <tbody>\n",
              "    <tr>\n",
              "      <th>count</th>\n",
              "      <td>220320.000000</td>\n",
              "      <td>210112.000000</td>\n",
              "      <td>219951.000000</td>\n",
              "      <td>220301.000000</td>\n",
              "      <td>220301.000000</td>\n",
              "      <td>220301.000000</td>\n",
              "      <td>220301.000000</td>\n",
              "      <td>215522.000000</td>\n",
              "      <td>214869.000000</td>\n",
              "      <td>215213.000000</td>\n",
              "      <td>...</td>\n",
              "      <td>220293.000000</td>\n",
              "      <td>220293.000000</td>\n",
              "      <td>220293.000000</td>\n",
              "      <td>220293.000000</td>\n",
              "      <td>220293.000000</td>\n",
              "      <td>220293.000000</td>\n",
              "      <td>220293.000000</td>\n",
              "      <td>220293.000000</td>\n",
              "      <td>143303.000000</td>\n",
              "      <td>204937.000000</td>\n",
              "    </tr>\n",
              "    <tr>\n",
              "      <th>mean</th>\n",
              "      <td>110159.500000</td>\n",
              "      <td>2.372221</td>\n",
              "      <td>47.591611</td>\n",
              "      <td>50.867392</td>\n",
              "      <td>43.752481</td>\n",
              "      <td>590.673936</td>\n",
              "      <td>73.396414</td>\n",
              "      <td>13.501537</td>\n",
              "      <td>15.843152</td>\n",
              "      <td>15.200721</td>\n",
              "      <td>...</td>\n",
              "      <td>35.453455</td>\n",
              "      <td>43.879591</td>\n",
              "      <td>42.656877</td>\n",
              "      <td>43.094984</td>\n",
              "      <td>48.018585</td>\n",
              "      <td>44.340903</td>\n",
              "      <td>150.889044</td>\n",
              "      <td>57.119968</td>\n",
              "      <td>183.049260</td>\n",
              "      <td>202.699667</td>\n",
              "    </tr>\n",
              "    <tr>\n",
              "      <th>std</th>\n",
              "      <td>63601.049991</td>\n",
              "      <td>0.412227</td>\n",
              "      <td>3.296666</td>\n",
              "      <td>3.666820</td>\n",
              "      <td>2.418887</td>\n",
              "      <td>144.023912</td>\n",
              "      <td>17.298247</td>\n",
              "      <td>2.163736</td>\n",
              "      <td>2.201155</td>\n",
              "      <td>2.037390</td>\n",
              "      <td>...</td>\n",
              "      <td>10.259521</td>\n",
              "      <td>11.044404</td>\n",
              "      <td>11.576355</td>\n",
              "      <td>12.837520</td>\n",
              "      <td>15.641284</td>\n",
              "      <td>10.442437</td>\n",
              "      <td>82.244957</td>\n",
              "      <td>19.143598</td>\n",
              "      <td>65.258650</td>\n",
              "      <td>109.588607</td>\n",
              "    </tr>\n",
              "    <tr>\n",
              "      <th>min</th>\n",
              "      <td>0.000000</td>\n",
              "      <td>0.000000</td>\n",
              "      <td>0.000000</td>\n",
              "      <td>33.159720</td>\n",
              "      <td>31.640620</td>\n",
              "      <td>2.798032</td>\n",
              "      <td>0.000000</td>\n",
              "      <td>0.014468</td>\n",
              "      <td>0.000000</td>\n",
              "      <td>0.028935</td>\n",
              "      <td>...</td>\n",
              "      <td>22.135416</td>\n",
              "      <td>24.479166</td>\n",
              "      <td>25.752316</td>\n",
              "      <td>26.331018</td>\n",
              "      <td>26.331018</td>\n",
              "      <td>27.199070</td>\n",
              "      <td>26.331018</td>\n",
              "      <td>26.620370</td>\n",
              "      <td>27.488426</td>\n",
              "      <td>27.777779</td>\n",
              "    </tr>\n",
              "    <tr>\n",
              "      <th>25%</th>\n",
              "      <td>55079.750000</td>\n",
              "      <td>2.438831</td>\n",
              "      <td>46.310760</td>\n",
              "      <td>50.390620</td>\n",
              "      <td>42.838539</td>\n",
              "      <td>626.620400</td>\n",
              "      <td>69.976260</td>\n",
              "      <td>13.346350</td>\n",
              "      <td>15.907120</td>\n",
              "      <td>15.183740</td>\n",
              "      <td>...</td>\n",
              "      <td>32.812500</td>\n",
              "      <td>39.583330</td>\n",
              "      <td>36.747684</td>\n",
              "      <td>36.747684</td>\n",
              "      <td>40.509258</td>\n",
              "      <td>39.062500</td>\n",
              "      <td>83.912030</td>\n",
              "      <td>47.743060</td>\n",
              "      <td>167.534700</td>\n",
              "      <td>179.108800</td>\n",
              "    </tr>\n",
              "    <tr>\n",
              "      <th>50%</th>\n",
              "      <td>110159.500000</td>\n",
              "      <td>2.456539</td>\n",
              "      <td>48.133678</td>\n",
              "      <td>51.649300</td>\n",
              "      <td>44.227428</td>\n",
              "      <td>632.638916</td>\n",
              "      <td>75.576790</td>\n",
              "      <td>13.642940</td>\n",
              "      <td>16.167530</td>\n",
              "      <td>15.494790</td>\n",
              "      <td>...</td>\n",
              "      <td>35.156250</td>\n",
              "      <td>42.968750</td>\n",
              "      <td>40.509260</td>\n",
              "      <td>40.219910</td>\n",
              "      <td>44.849540</td>\n",
              "      <td>42.534720</td>\n",
              "      <td>138.020800</td>\n",
              "      <td>52.662040</td>\n",
              "      <td>193.865700</td>\n",
              "      <td>197.338000</td>\n",
              "    </tr>\n",
              "    <tr>\n",
              "      <th>75%</th>\n",
              "      <td>165239.250000</td>\n",
              "      <td>2.499826</td>\n",
              "      <td>49.479160</td>\n",
              "      <td>52.777770</td>\n",
              "      <td>45.312500</td>\n",
              "      <td>637.615723</td>\n",
              "      <td>80.912150</td>\n",
              "      <td>14.539930</td>\n",
              "      <td>16.427950</td>\n",
              "      <td>15.697340</td>\n",
              "      <td>...</td>\n",
              "      <td>36.979164</td>\n",
              "      <td>46.614580</td>\n",
              "      <td>45.138890</td>\n",
              "      <td>44.849540</td>\n",
              "      <td>51.215280</td>\n",
              "      <td>46.585650</td>\n",
              "      <td>208.333300</td>\n",
              "      <td>60.763890</td>\n",
              "      <td>219.907400</td>\n",
              "      <td>216.724500</td>\n",
              "    </tr>\n",
              "    <tr>\n",
              "      <th>max</th>\n",
              "      <td>220319.000000</td>\n",
              "      <td>2.549016</td>\n",
              "      <td>56.727430</td>\n",
              "      <td>56.032990</td>\n",
              "      <td>48.220490</td>\n",
              "      <td>800.000000</td>\n",
              "      <td>99.999880</td>\n",
              "      <td>22.251160</td>\n",
              "      <td>23.596640</td>\n",
              "      <td>24.348960</td>\n",
              "      <td>...</td>\n",
              "      <td>374.218800</td>\n",
              "      <td>408.593700</td>\n",
              "      <td>1000.000000</td>\n",
              "      <td>320.312500</td>\n",
              "      <td>370.370400</td>\n",
              "      <td>303.530100</td>\n",
              "      <td>561.632000</td>\n",
              "      <td>464.409700</td>\n",
              "      <td>1000.000000</td>\n",
              "      <td>1000.000000</td>\n",
              "    </tr>\n",
              "  </tbody>\n",
              "</table>\n",
              "<p>8 rows × 53 columns</p>\n",
              "</div>\n",
              "      <button class=\"colab-df-convert\" onclick=\"convertToInteractive('df-e33d201e-b9ce-46f9-a338-95d335f72d27')\"\n",
              "              title=\"Convert this dataframe to an interactive table.\"\n",
              "              style=\"display:none;\">\n",
              "        \n",
              "  <svg xmlns=\"http://www.w3.org/2000/svg\" height=\"24px\"viewBox=\"0 0 24 24\"\n",
              "       width=\"24px\">\n",
              "    <path d=\"M0 0h24v24H0V0z\" fill=\"none\"/>\n",
              "    <path d=\"M18.56 5.44l.94 2.06.94-2.06 2.06-.94-2.06-.94-.94-2.06-.94 2.06-2.06.94zm-11 1L8.5 8.5l.94-2.06 2.06-.94-2.06-.94L8.5 2.5l-.94 2.06-2.06.94zm10 10l.94 2.06.94-2.06 2.06-.94-2.06-.94-.94-2.06-.94 2.06-2.06.94z\"/><path d=\"M17.41 7.96l-1.37-1.37c-.4-.4-.92-.59-1.43-.59-.52 0-1.04.2-1.43.59L10.3 9.45l-7.72 7.72c-.78.78-.78 2.05 0 2.83L4 21.41c.39.39.9.59 1.41.59.51 0 1.02-.2 1.41-.59l7.78-7.78 2.81-2.81c.8-.78.8-2.07 0-2.86zM5.41 20L4 18.59l7.72-7.72 1.47 1.35L5.41 20z\"/>\n",
              "  </svg>\n",
              "      </button>\n",
              "      \n",
              "  <style>\n",
              "    .colab-df-container {\n",
              "      display:flex;\n",
              "      flex-wrap:wrap;\n",
              "      gap: 12px;\n",
              "    }\n",
              "\n",
              "    .colab-df-convert {\n",
              "      background-color: #E8F0FE;\n",
              "      border: none;\n",
              "      border-radius: 50%;\n",
              "      cursor: pointer;\n",
              "      display: none;\n",
              "      fill: #1967D2;\n",
              "      height: 32px;\n",
              "      padding: 0 0 0 0;\n",
              "      width: 32px;\n",
              "    }\n",
              "\n",
              "    .colab-df-convert:hover {\n",
              "      background-color: #E2EBFA;\n",
              "      box-shadow: 0px 1px 2px rgba(60, 64, 67, 0.3), 0px 1px 3px 1px rgba(60, 64, 67, 0.15);\n",
              "      fill: #174EA6;\n",
              "    }\n",
              "\n",
              "    [theme=dark] .colab-df-convert {\n",
              "      background-color: #3B4455;\n",
              "      fill: #D2E3FC;\n",
              "    }\n",
              "\n",
              "    [theme=dark] .colab-df-convert:hover {\n",
              "      background-color: #434B5C;\n",
              "      box-shadow: 0px 1px 3px 1px rgba(0, 0, 0, 0.15);\n",
              "      filter: drop-shadow(0px 1px 2px rgba(0, 0, 0, 0.3));\n",
              "      fill: #FFFFFF;\n",
              "    }\n",
              "  </style>\n",
              "\n",
              "      <script>\n",
              "        const buttonEl =\n",
              "          document.querySelector('#df-e33d201e-b9ce-46f9-a338-95d335f72d27 button.colab-df-convert');\n",
              "        buttonEl.style.display =\n",
              "          google.colab.kernel.accessAllowed ? 'block' : 'none';\n",
              "\n",
              "        async function convertToInteractive(key) {\n",
              "          const element = document.querySelector('#df-e33d201e-b9ce-46f9-a338-95d335f72d27');\n",
              "          const dataTable =\n",
              "            await google.colab.kernel.invokeFunction('convertToInteractive',\n",
              "                                                     [key], {});\n",
              "          if (!dataTable) return;\n",
              "\n",
              "          const docLinkHtml = 'Like what you see? Visit the ' +\n",
              "            '<a target=\"_blank\" href=https://colab.research.google.com/notebooks/data_table.ipynb>data table notebook</a>'\n",
              "            + ' to learn more about interactive tables.';\n",
              "          element.innerHTML = '';\n",
              "          dataTable['output_type'] = 'display_data';\n",
              "          await google.colab.output.renderOutput(dataTable, element);\n",
              "          const docLink = document.createElement('div');\n",
              "          docLink.innerHTML = docLinkHtml;\n",
              "          element.appendChild(docLink);\n",
              "        }\n",
              "      </script>\n",
              "    </div>\n",
              "  </div>\n",
              "  "
            ]
          },
          "metadata": {},
          "execution_count": 5
        }
      ]
    },
    {
      "cell_type": "markdown",
      "source": [
        "# Preprocess Data"
      ],
      "metadata": {
        "id": "PjN-E0yOqx8i"
      }
    },
    {
      "cell_type": "markdown",
      "source": [
        "Ignore NaN rows\n"
      ],
      "metadata": {
        "id": "HhmIhMGgix-Z"
      }
    },
    {
      "cell_type": "code",
      "source": [
        "before = len(df.index)\n",
        "#sensor 15 contains mostly nan values --> drop from dataframe here\n",
        "try:\n",
        "  df = df.drop(['sensor_15'], axis=1) #delete whole column\n",
        "except:\n",
        "  print(\"sensor_15 already deleted\")\n",
        "df = df.dropna(axis=0, subset = df.columns.difference(['machine_status'])) #delete rows with nan values\n",
        "after = len(df.index)\n",
        "print(\"deleted %s lines (length: %s)\"%(str(before-after),after))"
      ],
      "metadata": {
        "colab": {
          "base_uri": "https://localhost:8080/"
        },
        "id": "EUBEhrGJixYS",
        "outputId": "433dfed2-e77c-4f1e-fad3-c8373068fed1"
      },
      "execution_count": 3,
      "outputs": [
        {
          "output_type": "stream",
          "name": "stdout",
          "text": [
            "deleted 101217 lines (length: 119103)\n"
          ]
        }
      ]
    },
    {
      "cell_type": "markdown",
      "source": [
        "Create target vector and design matrix"
      ],
      "metadata": {
        "id": "sO1bvV1siMqw"
      }
    },
    {
      "cell_type": "code",
      "source": [
        "target = df[\"machine_status\"].to_numpy()\n",
        "print(target)\n",
        "timestamp = df[\"timestamp\"].to_numpy()\n",
        "print(timestamp)"
      ],
      "metadata": {
        "colab": {
          "base_uri": "https://localhost:8080/"
        },
        "id": "6ZK7cUw2e6RN",
        "outputId": "c0e5d2c3-e3de-4659-9db2-60a4f2216200"
      },
      "execution_count": 4,
      "outputs": [
        {
          "output_type": "stream",
          "name": "stdout",
          "text": [
            "['NORMAL' 'NORMAL' 'NORMAL' ... 'NORMAL' 'NORMAL' 'NORMAL']\n",
            "['2018-04-01 00:00:00' '2018-04-01 00:01:00' '2018-04-01 00:02:00' ...\n",
            " '2018-07-09 12:41:00' '2018-07-09 12:42:00' '2018-07-09 12:43:00']\n"
          ]
        }
      ]
    },
    {
      "cell_type": "code",
      "source": [
        "data = df.drop(df.columns[[0,1]], axis=1, inplace=True)\n",
        "data = df.drop(['machine_status'], axis=1)\n"
      ],
      "metadata": {
        "id": "kihSv1z5ajqD"
      },
      "execution_count": 5,
      "outputs": []
    },
    {
      "cell_type": "code",
      "source": [
        "data.head()"
      ],
      "metadata": {
        "colab": {
          "base_uri": "https://localhost:8080/",
          "height": 236
        },
        "id": "lht87JdEii_8",
        "outputId": "bab46121-f86d-49d1-d356-b041cd1e54c4"
      },
      "execution_count": null,
      "outputs": [
        {
          "output_type": "execute_result",
          "data": {
            "text/plain": [
              "   sensor_00  sensor_01  sensor_02  sensor_03  sensor_04  sensor_05  \\\n",
              "0   2.465394   47.09201    53.2118  46.310760   634.3750   76.45975   \n",
              "1   2.465394   47.09201    53.2118  46.310760   634.3750   76.45975   \n",
              "2   2.444734   47.35243    53.2118  46.397570   638.8889   73.54598   \n",
              "3   2.460474   47.09201    53.1684  46.397568   628.1250   76.98898   \n",
              "4   2.445718   47.13541    53.2118  46.397568   636.4583   76.58897   \n",
              "\n",
              "   sensor_06  sensor_07  sensor_08  sensor_09  ...  sensor_42  sensor_43  \\\n",
              "0   13.41146   16.13136   15.56713   15.05353  ...  31.770832   41.92708   \n",
              "1   13.41146   16.13136   15.56713   15.05353  ...  31.770832   41.92708   \n",
              "2   13.32465   16.03733   15.61777   15.01013  ...  31.770830   41.66666   \n",
              "3   13.31742   16.24711   15.69734   15.08247  ...  31.510420   40.88541   \n",
              "4   13.35359   16.21094   15.69734   15.08247  ...  31.510420   41.40625   \n",
              "\n",
              "   sensor_44  sensor_45  sensor_46  sensor_47  sensor_48  sensor_49  \\\n",
              "0  39.641200   65.68287   50.92593  38.194440   157.9861   67.70834   \n",
              "1  39.641200   65.68287   50.92593  38.194440   157.9861   67.70834   \n",
              "2  39.351852   65.39352   51.21528  38.194443   155.9606   67.12963   \n",
              "3  39.062500   64.81481   51.21528  38.194440   155.9606   66.84028   \n",
              "4  38.773150   65.10416   51.79398  38.773150   158.2755   66.55093   \n",
              "\n",
              "   sensor_50  sensor_51  \n",
              "0   243.0556   201.3889  \n",
              "1   243.0556   201.3889  \n",
              "2   241.3194   203.7037  \n",
              "3   240.4514   203.1250  \n",
              "4   242.1875   201.3889  \n",
              "\n",
              "[5 rows x 51 columns]"
            ],
            "text/html": [
              "\n",
              "  <div id=\"df-8844807f-48ab-4a3b-95d5-d2b760747aff\">\n",
              "    <div class=\"colab-df-container\">\n",
              "      <div>\n",
              "<style scoped>\n",
              "    .dataframe tbody tr th:only-of-type {\n",
              "        vertical-align: middle;\n",
              "    }\n",
              "\n",
              "    .dataframe tbody tr th {\n",
              "        vertical-align: top;\n",
              "    }\n",
              "\n",
              "    .dataframe thead th {\n",
              "        text-align: right;\n",
              "    }\n",
              "</style>\n",
              "<table border=\"1\" class=\"dataframe\">\n",
              "  <thead>\n",
              "    <tr style=\"text-align: right;\">\n",
              "      <th></th>\n",
              "      <th>sensor_00</th>\n",
              "      <th>sensor_01</th>\n",
              "      <th>sensor_02</th>\n",
              "      <th>sensor_03</th>\n",
              "      <th>sensor_04</th>\n",
              "      <th>sensor_05</th>\n",
              "      <th>sensor_06</th>\n",
              "      <th>sensor_07</th>\n",
              "      <th>sensor_08</th>\n",
              "      <th>sensor_09</th>\n",
              "      <th>...</th>\n",
              "      <th>sensor_42</th>\n",
              "      <th>sensor_43</th>\n",
              "      <th>sensor_44</th>\n",
              "      <th>sensor_45</th>\n",
              "      <th>sensor_46</th>\n",
              "      <th>sensor_47</th>\n",
              "      <th>sensor_48</th>\n",
              "      <th>sensor_49</th>\n",
              "      <th>sensor_50</th>\n",
              "      <th>sensor_51</th>\n",
              "    </tr>\n",
              "  </thead>\n",
              "  <tbody>\n",
              "    <tr>\n",
              "      <th>0</th>\n",
              "      <td>2.465394</td>\n",
              "      <td>47.09201</td>\n",
              "      <td>53.2118</td>\n",
              "      <td>46.310760</td>\n",
              "      <td>634.3750</td>\n",
              "      <td>76.45975</td>\n",
              "      <td>13.41146</td>\n",
              "      <td>16.13136</td>\n",
              "      <td>15.56713</td>\n",
              "      <td>15.05353</td>\n",
              "      <td>...</td>\n",
              "      <td>31.770832</td>\n",
              "      <td>41.92708</td>\n",
              "      <td>39.641200</td>\n",
              "      <td>65.68287</td>\n",
              "      <td>50.92593</td>\n",
              "      <td>38.194440</td>\n",
              "      <td>157.9861</td>\n",
              "      <td>67.70834</td>\n",
              "      <td>243.0556</td>\n",
              "      <td>201.3889</td>\n",
              "    </tr>\n",
              "    <tr>\n",
              "      <th>1</th>\n",
              "      <td>2.465394</td>\n",
              "      <td>47.09201</td>\n",
              "      <td>53.2118</td>\n",
              "      <td>46.310760</td>\n",
              "      <td>634.3750</td>\n",
              "      <td>76.45975</td>\n",
              "      <td>13.41146</td>\n",
              "      <td>16.13136</td>\n",
              "      <td>15.56713</td>\n",
              "      <td>15.05353</td>\n",
              "      <td>...</td>\n",
              "      <td>31.770832</td>\n",
              "      <td>41.92708</td>\n",
              "      <td>39.641200</td>\n",
              "      <td>65.68287</td>\n",
              "      <td>50.92593</td>\n",
              "      <td>38.194440</td>\n",
              "      <td>157.9861</td>\n",
              "      <td>67.70834</td>\n",
              "      <td>243.0556</td>\n",
              "      <td>201.3889</td>\n",
              "    </tr>\n",
              "    <tr>\n",
              "      <th>2</th>\n",
              "      <td>2.444734</td>\n",
              "      <td>47.35243</td>\n",
              "      <td>53.2118</td>\n",
              "      <td>46.397570</td>\n",
              "      <td>638.8889</td>\n",
              "      <td>73.54598</td>\n",
              "      <td>13.32465</td>\n",
              "      <td>16.03733</td>\n",
              "      <td>15.61777</td>\n",
              "      <td>15.01013</td>\n",
              "      <td>...</td>\n",
              "      <td>31.770830</td>\n",
              "      <td>41.66666</td>\n",
              "      <td>39.351852</td>\n",
              "      <td>65.39352</td>\n",
              "      <td>51.21528</td>\n",
              "      <td>38.194443</td>\n",
              "      <td>155.9606</td>\n",
              "      <td>67.12963</td>\n",
              "      <td>241.3194</td>\n",
              "      <td>203.7037</td>\n",
              "    </tr>\n",
              "    <tr>\n",
              "      <th>3</th>\n",
              "      <td>2.460474</td>\n",
              "      <td>47.09201</td>\n",
              "      <td>53.1684</td>\n",
              "      <td>46.397568</td>\n",
              "      <td>628.1250</td>\n",
              "      <td>76.98898</td>\n",
              "      <td>13.31742</td>\n",
              "      <td>16.24711</td>\n",
              "      <td>15.69734</td>\n",
              "      <td>15.08247</td>\n",
              "      <td>...</td>\n",
              "      <td>31.510420</td>\n",
              "      <td>40.88541</td>\n",
              "      <td>39.062500</td>\n",
              "      <td>64.81481</td>\n",
              "      <td>51.21528</td>\n",
              "      <td>38.194440</td>\n",
              "      <td>155.9606</td>\n",
              "      <td>66.84028</td>\n",
              "      <td>240.4514</td>\n",
              "      <td>203.1250</td>\n",
              "    </tr>\n",
              "    <tr>\n",
              "      <th>4</th>\n",
              "      <td>2.445718</td>\n",
              "      <td>47.13541</td>\n",
              "      <td>53.2118</td>\n",
              "      <td>46.397568</td>\n",
              "      <td>636.4583</td>\n",
              "      <td>76.58897</td>\n",
              "      <td>13.35359</td>\n",
              "      <td>16.21094</td>\n",
              "      <td>15.69734</td>\n",
              "      <td>15.08247</td>\n",
              "      <td>...</td>\n",
              "      <td>31.510420</td>\n",
              "      <td>41.40625</td>\n",
              "      <td>38.773150</td>\n",
              "      <td>65.10416</td>\n",
              "      <td>51.79398</td>\n",
              "      <td>38.773150</td>\n",
              "      <td>158.2755</td>\n",
              "      <td>66.55093</td>\n",
              "      <td>242.1875</td>\n",
              "      <td>201.3889</td>\n",
              "    </tr>\n",
              "  </tbody>\n",
              "</table>\n",
              "<p>5 rows × 51 columns</p>\n",
              "</div>\n",
              "      <button class=\"colab-df-convert\" onclick=\"convertToInteractive('df-8844807f-48ab-4a3b-95d5-d2b760747aff')\"\n",
              "              title=\"Convert this dataframe to an interactive table.\"\n",
              "              style=\"display:none;\">\n",
              "        \n",
              "  <svg xmlns=\"http://www.w3.org/2000/svg\" height=\"24px\"viewBox=\"0 0 24 24\"\n",
              "       width=\"24px\">\n",
              "    <path d=\"M0 0h24v24H0V0z\" fill=\"none\"/>\n",
              "    <path d=\"M18.56 5.44l.94 2.06.94-2.06 2.06-.94-2.06-.94-.94-2.06-.94 2.06-2.06.94zm-11 1L8.5 8.5l.94-2.06 2.06-.94-2.06-.94L8.5 2.5l-.94 2.06-2.06.94zm10 10l.94 2.06.94-2.06 2.06-.94-2.06-.94-.94-2.06-.94 2.06-2.06.94z\"/><path d=\"M17.41 7.96l-1.37-1.37c-.4-.4-.92-.59-1.43-.59-.52 0-1.04.2-1.43.59L10.3 9.45l-7.72 7.72c-.78.78-.78 2.05 0 2.83L4 21.41c.39.39.9.59 1.41.59.51 0 1.02-.2 1.41-.59l7.78-7.78 2.81-2.81c.8-.78.8-2.07 0-2.86zM5.41 20L4 18.59l7.72-7.72 1.47 1.35L5.41 20z\"/>\n",
              "  </svg>\n",
              "      </button>\n",
              "      \n",
              "  <style>\n",
              "    .colab-df-container {\n",
              "      display:flex;\n",
              "      flex-wrap:wrap;\n",
              "      gap: 12px;\n",
              "    }\n",
              "\n",
              "    .colab-df-convert {\n",
              "      background-color: #E8F0FE;\n",
              "      border: none;\n",
              "      border-radius: 50%;\n",
              "      cursor: pointer;\n",
              "      display: none;\n",
              "      fill: #1967D2;\n",
              "      height: 32px;\n",
              "      padding: 0 0 0 0;\n",
              "      width: 32px;\n",
              "    }\n",
              "\n",
              "    .colab-df-convert:hover {\n",
              "      background-color: #E2EBFA;\n",
              "      box-shadow: 0px 1px 2px rgba(60, 64, 67, 0.3), 0px 1px 3px 1px rgba(60, 64, 67, 0.15);\n",
              "      fill: #174EA6;\n",
              "    }\n",
              "\n",
              "    [theme=dark] .colab-df-convert {\n",
              "      background-color: #3B4455;\n",
              "      fill: #D2E3FC;\n",
              "    }\n",
              "\n",
              "    [theme=dark] .colab-df-convert:hover {\n",
              "      background-color: #434B5C;\n",
              "      box-shadow: 0px 1px 3px 1px rgba(0, 0, 0, 0.15);\n",
              "      filter: drop-shadow(0px 1px 2px rgba(0, 0, 0, 0.3));\n",
              "      fill: #FFFFFF;\n",
              "    }\n",
              "  </style>\n",
              "\n",
              "      <script>\n",
              "        const buttonEl =\n",
              "          document.querySelector('#df-8844807f-48ab-4a3b-95d5-d2b760747aff button.colab-df-convert');\n",
              "        buttonEl.style.display =\n",
              "          google.colab.kernel.accessAllowed ? 'block' : 'none';\n",
              "\n",
              "        async function convertToInteractive(key) {\n",
              "          const element = document.querySelector('#df-8844807f-48ab-4a3b-95d5-d2b760747aff');\n",
              "          const dataTable =\n",
              "            await google.colab.kernel.invokeFunction('convertToInteractive',\n",
              "                                                     [key], {});\n",
              "          if (!dataTable) return;\n",
              "\n",
              "          const docLinkHtml = 'Like what you see? Visit the ' +\n",
              "            '<a target=\"_blank\" href=https://colab.research.google.com/notebooks/data_table.ipynb>data table notebook</a>'\n",
              "            + ' to learn more about interactive tables.';\n",
              "          element.innerHTML = '';\n",
              "          dataTable['output_type'] = 'display_data';\n",
              "          await google.colab.output.renderOutput(dataTable, element);\n",
              "          const docLink = document.createElement('div');\n",
              "          docLink.innerHTML = docLinkHtml;\n",
              "          element.appendChild(docLink);\n",
              "        }\n",
              "      </script>\n",
              "    </div>\n",
              "  </div>\n",
              "  "
            ]
          },
          "metadata": {},
          "execution_count": 6
        }
      ]
    },
    {
      "cell_type": "markdown",
      "source": [
        "# KNN"
      ],
      "metadata": {
        "id": "omfc_OgBq3x6"
      }
    },
    {
      "cell_type": "markdown",
      "source": [
        "##KNN n = 5"
      ],
      "metadata": {
        "id": "3Ph1W0ls2tAf"
      }
    },
    {
      "cell_type": "code",
      "source": [
        "from sklearn.model_selection import train_test_split\n",
        "from sklearn.neighbors import KNeighborsClassifier\n",
        "from sklearn import metrics\n",
        "import time\n",
        "from sklearn.model_selection import GridSearchCV\n"
      ],
      "metadata": {
        "id": "kFBFIjiu3buO"
      },
      "execution_count": 9,
      "outputs": []
    },
    {
      "cell_type": "code",
      "source": [
        "from sklearn.model_selection import train_test_split\n",
        "\n",
        "X_train, X_test, y_train, y_test = train_test_split(data, target, test_size=0.2, random_state=42, shuffle=False)#stratify=target#shuffle=True (Daten sind geordnet, sollten aber gemischt sein)\n",
        "print(X_train.shape)\n",
        "print(X_test.shape)\n",
        "print(y_train.shape)\n",
        "print(y_test.shape)"
      ],
      "metadata": {
        "colab": {
          "base_uri": "https://localhost:8080/"
        },
        "id": "OhHlXa8UcgYW",
        "outputId": "919b6d94-32cf-4f6a-9081-6065f827b4fe"
      },
      "execution_count": 6,
      "outputs": [
        {
          "output_type": "stream",
          "name": "stdout",
          "text": [
            "(95282, 51)\n",
            "(23821, 51)\n",
            "(95282,)\n",
            "(23821,)\n"
          ]
        }
      ]
    },
    {
      "cell_type": "code",
      "source": [
        "# Your code here\n",
        "from sklearn.neighbors import KNeighborsClassifier\n",
        "model_k5 = KNeighborsClassifier(n_neighbors=5)\n",
        "model_k5.fit(X_train, y_train)\n",
        "y_pred_k5 = model_k5.predict(X_test)"
      ],
      "metadata": {
        "id": "Lz7J_9r-gVho"
      },
      "execution_count": 8,
      "outputs": []
    },
    {
      "cell_type": "markdown",
      "source": [
        "Non-scaled data input with a random n_neighbors = 5 scores 0.9523 Accuracy which is surprisingly good.\n"
      ],
      "metadata": {
        "id": "ccDpBv2NqOY3"
      }
    },
    {
      "cell_type": "code",
      "source": [
        "from sklearn import metrics\n",
        "# Model Accuracy, how often is the classifier correct?\n",
        "print(\"Accuracy:\",metrics.accuracy_score(y_test, y_pred_k5))\n",
        "print(model_k5.score(X_test, y_test))"
      ],
      "metadata": {
        "colab": {
          "base_uri": "https://localhost:8080/"
        },
        "id": "ACil_T4Eg3rb",
        "outputId": "c9669e5b-ec75-49c8-bb18-5855fe3894e8"
      },
      "execution_count": null,
      "outputs": [
        {
          "output_type": "stream",
          "name": "stdout",
          "text": [
            "Accuracy: 0.9523529658704505\n",
            "0.9523529658704505\n"
          ]
        }
      ]
    },
    {
      "cell_type": "markdown",
      "source": [
        "KNN for reduced dataset based on correlation (need to run correlation first)"
      ],
      "metadata": {
        "id": "e4sMmRohSKoS"
      }
    },
    {
      "cell_type": "code",
      "source": [
        "import time\n",
        "start = time.time()\n",
        "X_train, X_test, y_train, y_test = train_test_split(data_reduced, target, test_size=0.2, random_state=42, shuffle=False)#stratify=target#shuffle=True (Daten sind geordnet, sollten aber gemischt sein)\n",
        "print(X_train.shape)\n",
        "print(X_test.shape)\n",
        "print(y_train.shape)\n",
        "print(y_test.shape)\n",
        "model_k5 = KNeighborsClassifier(n_neighbors=5)\n",
        "model_k5.fit(X_train, y_train)\n",
        "y_pred_k5 = model_k5.predict(X_test)\n",
        "print(\"Accuracy:\",metrics.accuracy_score(y_test, y_pred_k5))\n",
        "print(model_k5.score(X_test, y_test))\n",
        "end = time.time()\n",
        "print(end - start)"
      ],
      "metadata": {
        "id": "ev3TVechp7Ex",
        "outputId": "e453d736-75e1-40b6-c483-e7752edc5a82",
        "colab": {
          "base_uri": "https://localhost:8080/"
        }
      },
      "execution_count": null,
      "outputs": [
        {
          "output_type": "stream",
          "name": "stdout",
          "text": [
            "(95282, 33)\n",
            "(23821, 33)\n",
            "(95282,)\n",
            "(23821,)\n",
            "Accuracy: 0.93400780823643\n",
            "0.93400780823643\n",
            "67.27733731269836\n"
          ]
        }
      ]
    },
    {
      "cell_type": "code",
      "source": [
        "import time\n",
        "start = time.time()\n",
        "X_train, X_test, y_train, y_test = train_test_split(data, target, test_size=0.2, random_state=42, shuffle=False)#stratify=target#shuffle=True (Daten sind geordnet, sollten aber gemischt sein)\n",
        "print(X_train.shape)\n",
        "print(X_test.shape)\n",
        "print(y_train.shape)\n",
        "print(y_test.shape)\n",
        "model_k5 = KNeighborsClassifier(n_neighbors=5)\n",
        "model_k5.fit(X_train, y_train)\n",
        "y_pred_k5 = model_k5.predict(X_test)\n",
        "print(\"Accuracy:\",metrics.accuracy_score(y_test, y_pred_k5))\n",
        "print(model_k5.score(X_test, y_test))\n",
        "end = time.time()\n",
        "print(end - start)"
      ],
      "metadata": {
        "id": "zGdmjyV-UZ9N",
        "outputId": "5b82e1f8-de01-4083-b182-c3d5df409c32",
        "colab": {
          "base_uri": "https://localhost:8080/"
        }
      },
      "execution_count": null,
      "outputs": [
        {
          "output_type": "stream",
          "name": "stdout",
          "text": [
            "(95282, 51)\n",
            "(23821, 51)\n",
            "(95282,)\n",
            "(23821,)\n",
            "Accuracy: 0.9523529658704505\n",
            "0.9523529658704505\n",
            "74.028235912323\n"
          ]
        }
      ]
    },
    {
      "cell_type": "markdown",
      "source": [
        "##KNN-GridSearch"
      ],
      "metadata": {
        "id": "6TrPhQeA2oev"
      }
    },
    {
      "cell_type": "code",
      "source": [
        "from sklearn.model_selection import GridSearchCV\n",
        "\n",
        "knnGS = KNeighborsClassifier()\n",
        "\n",
        "param_grid = {'n_neighbors': np.arange(3, 7)}\n",
        "\n",
        "knn_gs = GridSearchCV(knnGS, param_grid, cv=5, scoring='accuracy')\n",
        "#knn_gs = GridSearchCV(knn3, param_grid, cv=5, scoring=metrics.make_scorer(metrics.f1_score, average='weighted'))\n",
        "\n",
        "# Mit den besten Parametern Modell fitten\n",
        "knn_gs.fit(X_train, y_train)\n",
        "\n",
        "# Validierungsperformance!\n",
        "print(knn_gs.best_params_)\n",
        "print(knn_gs.best_score_)\n",
        "\n",
        "print('Train model with K=%i neighbours' % knn_gs.best_params_['n_neighbors'])\n",
        "\n",
        "y_pred = knn_gs.predict(X_test)\n",
        "print(metrics.confusion_matrix(y_test, y_pred))\n",
        "print(metrics.classification_report(y_test, y_pred))"
      ],
      "metadata": {
        "id": "tUcuLRcS2njw",
        "outputId": "344c1382-cc52-477e-dc52-bb9dbaf5d2db",
        "colab": {
          "base_uri": "https://localhost:8080/"
        }
      },
      "execution_count": 12,
      "outputs": [
        {
          "output_type": "stream",
          "name": "stderr",
          "text": [
            "/usr/local/lib/python3.7/dist-packages/sklearn/model_selection/_split.py:680: UserWarning: The least populated class in y has only 4 members, which is less than n_splits=5.\n",
            "  UserWarning,\n"
          ]
        },
        {
          "output_type": "stream",
          "name": "stdout",
          "text": [
            "{'n_neighbors': 6}\n",
            "0.9783485814596512\n",
            "Train model with K=6 neighbours\n",
            "[[    0     1     0]\n",
            " [    0 22237     1]\n",
            " [    0  1139   443]]\n"
          ]
        },
        {
          "output_type": "stream",
          "name": "stderr",
          "text": [
            "/usr/local/lib/python3.7/dist-packages/sklearn/metrics/_classification.py:1318: UndefinedMetricWarning: Precision and F-score are ill-defined and being set to 0.0 in labels with no predicted samples. Use `zero_division` parameter to control this behavior.\n",
            "  _warn_prf(average, modifier, msg_start, len(result))\n"
          ]
        },
        {
          "output_type": "stream",
          "name": "stdout",
          "text": [
            "              precision    recall  f1-score   support\n",
            "\n",
            "      BROKEN       0.00      0.00      0.00         1\n",
            "      NORMAL       0.95      1.00      0.97     22238\n",
            "  RECOVERING       1.00      0.28      0.44      1582\n",
            "\n",
            "    accuracy                           0.95     23821\n",
            "   macro avg       0.65      0.43      0.47     23821\n",
            "weighted avg       0.95      0.95      0.94     23821\n",
            "\n"
          ]
        },
        {
          "output_type": "stream",
          "name": "stderr",
          "text": [
            "/usr/local/lib/python3.7/dist-packages/sklearn/metrics/_classification.py:1318: UndefinedMetricWarning: Precision and F-score are ill-defined and being set to 0.0 in labels with no predicted samples. Use `zero_division` parameter to control this behavior.\n",
            "  _warn_prf(average, modifier, msg_start, len(result))\n",
            "/usr/local/lib/python3.7/dist-packages/sklearn/metrics/_classification.py:1318: UndefinedMetricWarning: Precision and F-score are ill-defined and being set to 0.0 in labels with no predicted samples. Use `zero_division` parameter to control this behavior.\n",
            "  _warn_prf(average, modifier, msg_start, len(result))\n"
          ]
        }
      ]
    },
    {
      "cell_type": "code",
      "source": [
        "from sklearn.model_selection import GridSearchCV\n",
        "\n",
        "knnGS = KNeighborsClassifier()\n",
        "\n",
        "param_grid = {'n_neighbors': np.arange(3, 7)}\n",
        "\n",
        "knn_gs = GridSearchCV(knnGS, param_grid, cv=5, scoring='accuracy')\n",
        "#knn_gs = GridSearchCV(knn3, param_grid, cv=5, scoring=metrics.make_scorer(metrics.f1_score, average='weighted'))\n",
        "\n",
        "# Mit den besten Parametern Modell fitten\n",
        "knn_gs.fit(X_train_scaled, y_train)\n",
        "\n",
        "# Validierungsperformance!\n",
        "print(knn_gs.best_params_)\n",
        "print(knn_gs.best_score_)\n",
        "\n",
        "print('Train model with K=%i neighbours' % knn_gs.best_params_['n_neighbors'])\n",
        "\n",
        "y_pred = knn_gs.predict(X_test_scaled)\n",
        "print(metrics.confusion_matrix(y_test, y_pred))\n",
        "print(metrics.classification_report(y_test, y_pred))"
      ],
      "metadata": {
        "id": "pA6CrBY0RQFB",
        "outputId": "9c6ee982-a6f5-4107-af97-21e6df8639b4",
        "colab": {
          "base_uri": "https://localhost:8080/"
        }
      },
      "execution_count": 21,
      "outputs": [
        {
          "output_type": "stream",
          "name": "stderr",
          "text": [
            "/usr/local/lib/python3.7/dist-packages/sklearn/model_selection/_split.py:680: UserWarning: The least populated class in y has only 4 members, which is less than n_splits=5.\n",
            "  UserWarning,\n"
          ]
        },
        {
          "output_type": "stream",
          "name": "stdout",
          "text": [
            "{'n_neighbors': 6}\n",
            "0.9899035983436848\n",
            "Train model with K=6 neighbours\n",
            "[[    0     0     1]\n",
            " [    0 22204    34]\n",
            " [    0    60  1522]]\n"
          ]
        },
        {
          "output_type": "stream",
          "name": "stderr",
          "text": [
            "/usr/local/lib/python3.7/dist-packages/sklearn/metrics/_classification.py:1318: UndefinedMetricWarning: Precision and F-score are ill-defined and being set to 0.0 in labels with no predicted samples. Use `zero_division` parameter to control this behavior.\n",
            "  _warn_prf(average, modifier, msg_start, len(result))\n"
          ]
        },
        {
          "output_type": "stream",
          "name": "stdout",
          "text": [
            "              precision    recall  f1-score   support\n",
            "\n",
            "      BROKEN       0.00      0.00      0.00         1\n",
            "      NORMAL       1.00      1.00      1.00     22238\n",
            "  RECOVERING       0.98      0.96      0.97      1582\n",
            "\n",
            "    accuracy                           1.00     23821\n",
            "   macro avg       0.66      0.65      0.66     23821\n",
            "weighted avg       1.00      1.00      1.00     23821\n",
            "\n"
          ]
        },
        {
          "output_type": "stream",
          "name": "stderr",
          "text": [
            "/usr/local/lib/python3.7/dist-packages/sklearn/metrics/_classification.py:1318: UndefinedMetricWarning: Precision and F-score are ill-defined and being set to 0.0 in labels with no predicted samples. Use `zero_division` parameter to control this behavior.\n",
            "  _warn_prf(average, modifier, msg_start, len(result))\n",
            "/usr/local/lib/python3.7/dist-packages/sklearn/metrics/_classification.py:1318: UndefinedMetricWarning: Precision and F-score are ill-defined and being set to 0.0 in labels with no predicted samples. Use `zero_division` parameter to control this behavior.\n",
            "  _warn_prf(average, modifier, msg_start, len(result))\n"
          ]
        }
      ]
    },
    {
      "cell_type": "markdown",
      "source": [
        "#Visualization of two sensors"
      ],
      "metadata": {
        "id": "lepccSRfi8Te"
      }
    },
    {
      "cell_type": "code",
      "source": [
        "def plotTwoSensors(sensor1,sensor2):\n",
        "  mask_normal = target == 'NORMAL'\n",
        "  mask_broken = target == 'BROKEN'\n",
        "  mask_recov = target == 'RECOVERING'\n",
        "  normal_sens0 = np.ma.masked_array(data[sensor1], mask=mask_normal)\n",
        "  normal_sens1 = np.ma.masked_array(data[sensor2], mask=mask_normal)\n",
        "  broken_sens0 = np.ma.masked_array(data[sensor1], mask=mask_broken)\n",
        "  broken_sens1 = np.ma.masked_array(data[sensor2], mask=mask_broken)\n",
        "  recov_sens0 = np.ma.masked_array(data[sensor1], mask=mask_recov)\n",
        "  recov_sens1 = np.ma.masked_array(data[sensor2], mask=mask_recov)\n",
        "\n",
        "\n",
        "#normal_sens0,normal_sens1,'r*'\n",
        "#broken_sens0,broken_sens1,'b'\n",
        "#\n",
        "  plt.plot(recov_sens0,recov_sens1,'y',broken_sens0,broken_sens1,'b',normal_sens0,normal_sens1,'r*')\n",
        "  plt.xlabel(sensor1)\n",
        "  plt.ylabel(sensor2)\n",
        "  plt.legend(['RECOVERING','BROKEN','NORMAL'])\n"
      ],
      "metadata": {
        "id": "VGKk1xK0i9Om"
      },
      "execution_count": null,
      "outputs": []
    },
    {
      "cell_type": "code",
      "source": [
        "def maskTwoSensors(sensor1,sensor2):\n",
        "  mask_normal = target == 'NORMAL'\n",
        "  mask_broken = target == 'BROKEN'\n",
        "  mask_recov = target == 'RECOVERING'\n",
        "  normal_sens0 = np.ma.masked_array(data[sensor1], mask=mask_normal)\n",
        "  normal_sens1 = np.ma.masked_array(data[sensor2], mask=mask_normal)\n",
        "  broken_sens0 = np.ma.masked_array(data[sensor1], mask=mask_broken)\n",
        "  broken_sens1 = np.ma.masked_array(data[sensor2], mask=mask_broken)\n",
        "  recov_sens0 = np.ma.masked_array(data[sensor1], mask=mask_recov)\n",
        "  recov_sens1 = np.ma.masked_array(data[sensor2], mask=mask_recov)\n",
        "  return normal_sens0,normal_sens1,broken_sens0,broken_sens1,recov_sens0,recov_sens1"
      ],
      "metadata": {
        "id": "Z_M3GdmPtuk9"
      },
      "execution_count": null,
      "outputs": []
    },
    {
      "cell_type": "code",
      "source": [
        "plotTwoSensors(\"sensor_00\",\"sensor_01\")"
      ],
      "metadata": {
        "colab": {
          "base_uri": "https://localhost:8080/",
          "height": 280
        },
        "id": "Bhj2g6SwpFdr",
        "outputId": "4726cfeb-9418-4c17-dd1c-26e19e7c354f"
      },
      "execution_count": null,
      "outputs": [
        {
          "output_type": "display_data",
          "data": {
            "text/plain": [
              "<Figure size 432x288 with 1 Axes>"
            ],
            "image/png": "[encoded data removed]"
          },
          "metadata": {
            "needs_background": "light"
          }
        }
      ]
    },
    {
      "cell_type": "code",
      "source": [
        "plotTwoSensors(\"sensor_01\",\"sensor_02\")"
      ],
      "metadata": {
        "colab": {
          "base_uri": "https://localhost:8080/",
          "height": 280
        },
        "id": "N14vHIhdpLA7",
        "outputId": "52573a38-c07c-415e-f93c-a397168b1483"
      },
      "execution_count": null,
      "outputs": [
        {
          "output_type": "display_data",
          "data": {
            "text/plain": [
              "<Figure size 432x288 with 1 Axes>"
            ],
            "image/png": "[encoded data removed]"
          },
          "metadata": {
            "needs_background": "light"
          }
        }
      ]
    },
    {
      "cell_type": "code",
      "source": [
        "plotTwoSensors(\"sensor_02\",\"sensor_03\")"
      ],
      "metadata": {
        "colab": {
          "base_uri": "https://localhost:8080/",
          "height": 280
        },
        "id": "W_BjuQgypPkD",
        "outputId": "bcf6f112-36a1-4422-f26b-17953fdae328"
      },
      "execution_count": null,
      "outputs": [
        {
          "output_type": "display_data",
          "data": {
            "text/plain": [
              "<Figure size 432x288 with 1 Axes>"
            ],
            "image/png": "[encoded data removed]"
          },
          "metadata": {
            "needs_background": "light"
          }
        }
      ]
    },
    {
      "cell_type": "code",
      "source": [
        "#todo show percentage of broken and normal --> at the moment it looks like pump will mostly be broken\n",
        "\n",
        "len_data = len(data.columns)\n",
        "print(len_data)\n",
        "column_names = list(data.columns)\n",
        "\n",
        "vertical = 10\n",
        "horizontal = 5\n",
        "fig, axs = plt.subplots(vertical, horizontal,figsize=(25,25))\n",
        "\n",
        "v_pos = 0\n",
        "h_pos = 0\n",
        "for i in range(len_data):\n",
        "  #print(column_names[i])\n",
        "  #print(v_pos,h_pos)\n",
        "\n",
        "  normal_sens0,normal_sens1,broken_sens0,broken_sens1,recov_sens0,recov_sens1 = maskTwoSensors(column_names[i],column_names[i+1])\n",
        "\n",
        "  axs[v_pos, h_pos].plot(recov_sens0,recov_sens1,'y',broken_sens0,broken_sens1,'b',normal_sens0,normal_sens1,'r*')\n",
        "  axs[v_pos, h_pos].set_title(\"%s - %s.\" % (column_names[i],column_names[i+1]))\n",
        "  h_pos = h_pos +1\n",
        "  if h_pos == horizontal:\n",
        "    h_pos = 0\n",
        "    v_pos = v_pos + 1\n",
        "\n",
        "  #print(i)\n",
        "\n"
      ],
      "metadata": {
        "colab": {
          "base_uri": "https://localhost:8080/",
          "height": 1000
        },
        "id": "Rl-bq7JMpzfj",
        "outputId": "8453c106-316f-40a4-e4af-f105e86388fb"
      },
      "execution_count": null,
      "outputs": [
        {
          "output_type": "stream",
          "name": "stdout",
          "text": [
            "51\n"
          ]
        },
        {
          "output_type": "error",
          "ename": "NameError",
          "evalue": "ignored",
          "traceback": [
            "\u001b[0;31m---------------------------------------------------------------------------\u001b[0m",
            "\u001b[0;31mNameError\u001b[0m                                 Traceback (most recent call last)",
            "\u001b[0;32m<ipython-input-22-54259d3a084d>\u001b[0m in \u001b[0;36m<module>\u001b[0;34m()\u001b[0m\n\u001b[1;32m     15\u001b[0m   \u001b[0;31m#print(v_pos,h_pos)\u001b[0m\u001b[0;34m\u001b[0m\u001b[0;34m\u001b[0m\u001b[0;34m\u001b[0m\u001b[0m\n\u001b[1;32m     16\u001b[0m \u001b[0;34m\u001b[0m\u001b[0m\n\u001b[0;32m---> 17\u001b[0;31m   \u001b[0mnormal_sens0\u001b[0m\u001b[0;34m,\u001b[0m\u001b[0mnormal_sens1\u001b[0m\u001b[0;34m,\u001b[0m\u001b[0mbroken_sens0\u001b[0m\u001b[0;34m,\u001b[0m\u001b[0mbroken_sens1\u001b[0m\u001b[0;34m,\u001b[0m\u001b[0mrecov_sens0\u001b[0m\u001b[0;34m,\u001b[0m\u001b[0mrecov_sens1\u001b[0m \u001b[0;34m=\u001b[0m \u001b[0mmaskTwoSensors\u001b[0m\u001b[0;34m(\u001b[0m\u001b[0mcolumn_names\u001b[0m\u001b[0;34m[\u001b[0m\u001b[0mi\u001b[0m\u001b[0;34m]\u001b[0m\u001b[0;34m,\u001b[0m\u001b[0mcolumn_names\u001b[0m\u001b[0;34m[\u001b[0m\u001b[0mi\u001b[0m\u001b[0;34m+\u001b[0m\u001b[0;36m1\u001b[0m\u001b[0;34m]\u001b[0m\u001b[0;34m)\u001b[0m\u001b[0;34m\u001b[0m\u001b[0;34m\u001b[0m\u001b[0m\n\u001b[0m\u001b[1;32m     18\u001b[0m \u001b[0;34m\u001b[0m\u001b[0m\n\u001b[1;32m     19\u001b[0m   \u001b[0maxs\u001b[0m\u001b[0;34m[\u001b[0m\u001b[0mv_pos\u001b[0m\u001b[0;34m,\u001b[0m \u001b[0mh_pos\u001b[0m\u001b[0;34m]\u001b[0m\u001b[0;34m.\u001b[0m\u001b[0mplot\u001b[0m\u001b[0;34m(\u001b[0m\u001b[0mrecov_sens0\u001b[0m\u001b[0;34m,\u001b[0m\u001b[0mrecov_sens1\u001b[0m\u001b[0;34m,\u001b[0m\u001b[0;34m'y'\u001b[0m\u001b[0;34m,\u001b[0m\u001b[0mbroken_sens0\u001b[0m\u001b[0;34m,\u001b[0m\u001b[0mbroken_sens1\u001b[0m\u001b[0;34m,\u001b[0m\u001b[0;34m'b'\u001b[0m\u001b[0;34m,\u001b[0m\u001b[0mnormal_sens0\u001b[0m\u001b[0;34m,\u001b[0m\u001b[0mnormal_sens1\u001b[0m\u001b[0;34m,\u001b[0m\u001b[0;34m'r*'\u001b[0m\u001b[0;34m)\u001b[0m\u001b[0;34m\u001b[0m\u001b[0;34m\u001b[0m\u001b[0m\n",
            "\u001b[0;31mNameError\u001b[0m: name 'maskTwoSensors' is not defined"
          ]
        },
        {
          "output_type": "display_data",
          "data": {
            "text/plain": [
              "<Figure size 1800x1800 with 50 Axes>"
            ],
            "image/png": "[encoded data removed]"
          },
          "metadata": {
            "needs_background": "light"
          }
        }
      ]
    },
    {
      "cell_type": "markdown",
      "source": [
        "#Data Correlation"
      ],
      "metadata": {
        "id": "ry0dGX2hr9Jk"
      }
    },
    {
      "cell_type": "code",
      "source": [
        "data_corr = data.corr()\n",
        "column_names = list(data.columns)\n",
        "fig = plt.figure(figsize=(20,20))\n",
        "ax = fig.add_subplot(111)\n",
        "ax.matshow(data_corr,cmap=plt.cm.RdYlGn)\n",
        "ax.set_xticks(np.arange(len(column_names)))\n",
        "ax.set_yticks(np.arange(len(column_names)))\n",
        "\n",
        "ax.set_xticklabels(column_names)\n",
        "ax.set_yticklabels(column_names)\n",
        "plt.show()"
      ],
      "metadata": {
        "id": "2D5T1njYrtsm",
        "outputId": "ea51f084-0113-4dab-e0f3-30c630be8cf2",
        "colab": {
          "base_uri": "https://localhost:8080/",
          "height": 1000
        }
      },
      "execution_count": 15,
      "outputs": [
        {
          "output_type": "display_data",
          "data": {
            "text/plain": [
              "<Figure size 1440x1440 with 1 Axes>"
            ],
            "image/png": "[encoded data removed]"
          },
          "metadata": {
            "needs_background": "light"
          }
        }
      ]
    },
    {
      "cell_type": "code",
      "source": [
        "def checkTwoColumns(df,sens1,sens2):\n",
        "  #check the dataframe if sens1 and sens2 are already in a row, no matter which column they are in\n",
        "  #print(\"getting: %s %s\" %(sens1,sens2))\n",
        "  #try:\n",
        "  double = False\n",
        "  if len(df)>0:\n",
        "    #print(df.head())\n",
        "    column1 = df[\"sens1\"].to_numpy()\n",
        "    column2 = df[\"sens2\"].to_numpy()\n",
        "    index_sens2_incolumn1 = np.where(column1 == sens2)\n",
        "    index_sens1_incolumn2 = np.where(column2 == sens1)\n",
        "    #print(index_sens2_incolumn1)\n",
        "    #print(index_sens1_incolumn2)\n",
        "    if(len(index_sens2_incolumn1)>0 or len(index_sens1_incolumn2)>0):\n",
        "      #print(\"index in column1:\")\n",
        "      #print(index_sens2_incolumn1)\n",
        "      #print(\"value of index in column2: %s\"%column2[index_sens2_incolumn1])\n",
        "      for index in index_sens1_incolumn2[0]:\n",
        "        if column1[index] == sens2:\n",
        "          #print(index)\n",
        "          double = True\n",
        "          #print(\"found double\")\n",
        "          break\n",
        "      if not double:\n",
        "        for index in index_sens2_incolumn1[0]:\n",
        "          #print(index)\n",
        "          if column2[0][index] == sens1:\n",
        "            double = True\n",
        "            #print(\"found double\")\n",
        "            break\n",
        "\n",
        "  return double"
      ],
      "metadata": {
        "id": "k2GNidV1HWLe"
      },
      "execution_count": 16,
      "outputs": []
    },
    {
      "cell_type": "code",
      "source": [
        "#print(data_corr)\n",
        "data_corr[data_corr > 0.9].count()\n",
        "\n",
        "threshhold = 0.9\n",
        "\n",
        "\n",
        "corr = data_corr.loc[((data_corr['sensor_00'] > 0.9)&(data_corr['sensor_00'] < 1.0))]\n",
        "corr = corr[\"sensor_00\"]\n",
        "#print(corr.name)\n",
        "#print(corr.index[0])\n",
        "#print(corr[0])\n",
        "#print(corr.to_numpy())\n",
        "\n",
        "\n",
        "\n",
        "#corr = data_corr[(data_corr > 0.9)&(data_corr < 1.0)]\n",
        "#corr = data_corr.query('sensor_00>0.9 and sensor_00<1')\n",
        "#corr = data_corr.query(\"0.9 < @data_corr < 1.0\")\n",
        "corr_df = pd.DataFrame([],columns=['sens1', 'sens2', 'corr'])\n",
        "for sensor in data_corr.columns:\n",
        "  #print(\"this is current column: %s\"%sensor)\n",
        "  corr = data_corr.loc[((data_corr[sensor] > threshhold)&(data_corr[sensor] < 1.0))]\n",
        "  corr = corr[sensor]\n",
        "  #print(\"matching criteria (0.9 < x < 1.0): %s\" % len(corr))\n",
        "  if(len(corr)>1):\n",
        "    for i, c in enumerate(corr):\n",
        "     # print(i,c)\n",
        "      if not checkTwoColumns(corr_df,sensor,corr.index[i]):\n",
        "        corr_data = pd.DataFrame([[sensor,corr.index[i],c]],columns=['sens1', 'sens2', 'corr'])\n",
        "        corr_df = corr_df.append(corr_data,ignore_index=True)\n",
        "  else:\n",
        "    if len(corr)>0:\n",
        "      #print(corr)\n",
        "      #print(corr.name)\n",
        "      #print(corr.index[0])\n",
        "      #print(corr[0])\n",
        "      if not checkTwoColumns(corr_df,sensor,corr.index[0]):\n",
        "        corr_data = pd.DataFrame([[sensor,corr.index[0],corr[0]]],columns=['sens1', 'sens2', 'corr'])\n",
        "        corr_df = corr_df.append(corr_data,ignore_index=True)\n",
        "\n",
        "\n",
        "#corr_data = ['sensor_00',corr['sensor_00'].columnname,corr['sensor_00'].value]\n",
        "#corr_columns = ['sens1', 'sens2', 'corr']\n",
        "#temp = pd.DataFrame(corr_data,columns=corr_columns)\n",
        "print(\"%d sensor combinations are redundant with a correlation of %f\"%(len(corr_df),threshhold))\n",
        "print(corr_df.head())\n",
        "print(corr_df.describe())\n",
        "print(corr_df)\n"
      ],
      "metadata": {
        "id": "E4oMisalt_Ma",
        "outputId": "b0d5064e-f89b-4613-b453-13c68bd89192",
        "colab": {
          "base_uri": "https://localhost:8080/"
        }
      },
      "execution_count": 17,
      "outputs": [
        {
          "output_type": "stream",
          "name": "stdout",
          "text": [
            "79 sensor combinations are redundant with a correlation of 0.900000\n",
            "       sens1      sens2      corr\n",
            "0  sensor_00  sensor_04  0.938207\n",
            "1  sensor_07  sensor_08  0.964589\n",
            "2  sensor_07  sensor_09  0.939009\n",
            "3  sensor_08  sensor_09  0.961829\n",
            "4  sensor_14  sensor_16  0.990786\n",
            "            corr\n",
            "count  79.000000\n",
            "mean    0.954492\n",
            "std     0.033558\n",
            "min     0.900686\n",
            "25%     0.919647\n",
            "50%     0.971391\n",
            "75%     0.984663\n",
            "max     0.998727\n",
            "        sens1      sens2      corr\n",
            "0   sensor_00  sensor_04  0.938207\n",
            "1   sensor_07  sensor_08  0.964589\n",
            "2   sensor_07  sensor_09  0.939009\n",
            "3   sensor_08  sensor_09  0.961829\n",
            "4   sensor_14  sensor_16  0.990786\n",
            "..        ...        ...       ...\n",
            "74  sensor_26  sensor_32  0.908798\n",
            "75  sensor_28  sensor_32  0.901448\n",
            "76  sensor_31  sensor_32  0.905398\n",
            "77  sensor_32  sensor_33  0.939564\n",
            "78  sensor_34  sensor_35  0.903309\n",
            "\n",
            "[79 rows x 3 columns]\n"
          ]
        }
      ]
    },
    {
      "cell_type": "markdown",
      "source": [
        "TODO: Implement a performance counter not based on prediction but based on computation time\n",
        "--> less sensors (that are correlated anyway == no new information) should mean quicker computation\n",
        "--> time for calculation and threshold in correlation function can be hyperparameter for gridsearch"
      ],
      "metadata": {
        "id": "r8GuhpDrF7sD"
      }
    },
    {
      "cell_type": "code",
      "source": [
        "debug = False\n",
        "print(data.shape)\n",
        "data_reduced = data\n",
        "for d in corr_df['sens2']:\n",
        "  print(d)\n",
        "  try:\n",
        "    data_reduced = data_reduced.drop(d,axis=1)\n",
        "    #print(\"deleted %s\"%d)\n",
        "  except:\n",
        "    if debug:\n",
        "      print(\"%s is not a column\"%d)\n",
        "print(data_reduced.shape)\n",
        "length = int(data.shape[1])-int(data_reduced.shape[1])\n",
        "print(\"reduced dataset by %s features (columns)\"%(length))"
      ],
      "metadata": {
        "id": "SaTlgbJGHVQu",
        "outputId": "2bd74cbf-cd99-4062-9232-0b63b70ff188",
        "colab": {
          "base_uri": "https://localhost:8080/"
        }
      },
      "execution_count": 18,
      "outputs": [
        {
          "output_type": "stream",
          "name": "stdout",
          "text": [
            "(119103, 51)\n",
            "sensor_04\n",
            "sensor_08\n",
            "sensor_09\n",
            "sensor_09\n",
            "sensor_16\n",
            "sensor_17\n",
            "sensor_19\n",
            "sensor_20\n",
            "sensor_21\n",
            "sensor_22\n",
            "sensor_23\n",
            "sensor_24\n",
            "sensor_25\n",
            "sensor_26\n",
            "sensor_17\n",
            "sensor_18\n",
            "sensor_19\n",
            "sensor_20\n",
            "sensor_21\n",
            "sensor_22\n",
            "sensor_23\n",
            "sensor_24\n",
            "sensor_25\n",
            "sensor_26\n",
            "sensor_18\n",
            "sensor_19\n",
            "sensor_20\n",
            "sensor_21\n",
            "sensor_22\n",
            "sensor_23\n",
            "sensor_24\n",
            "sensor_25\n",
            "sensor_26\n",
            "sensor_19\n",
            "sensor_20\n",
            "sensor_21\n",
            "sensor_24\n",
            "sensor_20\n",
            "sensor_21\n",
            "sensor_22\n",
            "sensor_23\n",
            "sensor_24\n",
            "sensor_25\n",
            "sensor_26\n",
            "sensor_28\n",
            "sensor_21\n",
            "sensor_22\n",
            "sensor_23\n",
            "sensor_24\n",
            "sensor_25\n",
            "sensor_26\n",
            "sensor_28\n",
            "sensor_22\n",
            "sensor_23\n",
            "sensor_24\n",
            "sensor_25\n",
            "sensor_26\n",
            "sensor_28\n",
            "sensor_32\n",
            "sensor_23\n",
            "sensor_24\n",
            "sensor_25\n",
            "sensor_26\n",
            "sensor_28\n",
            "sensor_24\n",
            "sensor_25\n",
            "sensor_26\n",
            "sensor_28\n",
            "sensor_32\n",
            "sensor_25\n",
            "sensor_26\n",
            "sensor_28\n",
            "sensor_26\n",
            "sensor_28\n",
            "sensor_32\n",
            "sensor_32\n",
            "sensor_32\n",
            "sensor_33\n",
            "sensor_35\n",
            "(119103, 33)\n",
            "reduced dataset by 18 features (columns)\n"
          ]
        }
      ]
    },
    {
      "cell_type": "markdown",
      "source": [
        "# Scaling Data\n",
        "\n",
        "For an even better accuracy implement scaling of data."
      ],
      "metadata": {
        "id": "fZKblOfLqp57"
      }
    },
    {
      "cell_type": "code",
      "source": [
        "%matplotlib inline\n",
        "import seaborn as sns\n",
        "from sklearn.preprocessing import StandardScaler\n",
        "\n",
        "X_train, X_test, y_train, y_test = train_test_split(data_reduced, target, test_size=0.2, random_state=42, shuffle=False)#stratify=target#shuffle=True (Daten sind geordnet, sollten aber gemischt sein)\n",
        "\n",
        "# Skalierung der Daten\n",
        "scaler = StandardScaler()\n",
        "scaler.fit(X_train)\n",
        "X_train_scaled = scaler.transform(X_train)\n",
        "X_test_scaled = scaler.transform(X_test)\n",
        "\n",
        "sns.boxplot(data=X_train)\n",
        "\n"
      ],
      "metadata": {
        "id": "EJV0CNNBq8NC",
        "outputId": "cabd119f-b17c-4f2f-82d8-30c2f77d1042",
        "colab": {
          "base_uri": "https://localhost:8080/",
          "height": 285
        }
      },
      "execution_count": 19,
      "outputs": [
        {
          "output_type": "execute_result",
          "data": {
            "text/plain": [
              "<matplotlib.axes._subplots.AxesSubplot at 0x7f813ce82290>"
            ]
          },
          "metadata": {},
          "execution_count": 19
        },
        {
          "output_type": "display_data",
          "data": {
            "text/plain": [
              "<Figure size 432x288 with 1 Axes>"
            ],
            "image/png": "[encoded data removed]"
          },
          "metadata": {
            "needs_background": "light"
          }
        }
      ]
    },
    {
      "cell_type": "code",
      "source": [
        "sns.boxplot(data=X_train_scaled)"
      ],
      "metadata": {
        "id": "Oq-CgN2PbR7Y",
        "outputId": "6525b77f-a8d6-4e75-e2b2-10908d48291f",
        "colab": {
          "base_uri": "https://localhost:8080/",
          "height": 283
        }
      },
      "execution_count": 20,
      "outputs": [
        {
          "output_type": "execute_result",
          "data": {
            "text/plain": [
              "<matplotlib.axes._subplots.AxesSubplot at 0x7f813a3e0110>"
            ]
          },
          "metadata": {},
          "execution_count": 20
        },
        {
          "output_type": "display_data",
          "data": {
            "text/plain": [
              "<Figure size 432x288 with 1 Axes>"
            ],
            "image/png": "[encoded data removed]"
          },
          "metadata": {
            "needs_background": "light"
          }
        }
      ]
    },
    {
      "cell_type": "code",
      "source": [
        "import time\n",
        "start = time.time()\n",
        "print(X_train.shape)\n",
        "print(X_test.shape)\n",
        "print(y_train.shape)\n",
        "print(y_test.shape)\n",
        "model_k5 = KNeighborsClassifier(n_neighbors=5)\n",
        "model_k5.fit(X_train_scaled, y_train)\n",
        "y_pred_k5 = model_k5.predict(X_test)\n",
        "print(\"Accuracy:\",metrics.accuracy_score(y_test, y_pred_k5))\n",
        "print(model_k5.score(X_test_scaled, y_test))\n",
        "end = time.time()\n",
        "print(end - start)"
      ],
      "metadata": {
        "id": "C938Wcrybe3v",
        "outputId": "1dead25d-97c4-42c5-e1b3-22d1ad700c13",
        "colab": {
          "base_uri": "https://localhost:8080/"
        }
      },
      "execution_count": null,
      "outputs": [
        {
          "output_type": "stream",
          "name": "stdout",
          "text": [
            "(95282, 33)\n",
            "(23821, 33)\n",
            "(95282,)\n",
            "(23821,)\n"
          ]
        },
        {
          "output_type": "stream",
          "name": "stderr",
          "text": [
            "/usr/local/lib/python3.7/dist-packages/sklearn/base.py:444: UserWarning: X has feature names, but KNeighborsClassifier was fitted without feature names\n",
            "  f\"X has feature names, but {self.__class__.__name__} was fitted without\"\n"
          ]
        },
        {
          "output_type": "stream",
          "name": "stdout",
          "text": [
            "Accuracy: 0.9330002938583603\n",
            "0.9970194366315436\n",
            "64.80542993545532\n"
          ]
        }
      ]
    },
    {
      "cell_type": "code",
      "source": [
        ""
      ],
      "metadata": {
        "id": "VUvQNh8vb4fS"
      },
      "execution_count": null,
      "outputs": []
    }
  ]
}